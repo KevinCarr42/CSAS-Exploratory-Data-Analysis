{
 "cells": [
  {
   "metadata": {
    "ExecuteTime": {
     "end_time": "2025-08-05T16:21:04.995371Z",
     "start_time": "2025-08-05T16:20:44.260263Z"
    }
   },
   "cell_type": "code",
   "source": [
    "import pypandoc\n",
    "\n",
    "try:\n",
    "    pypandoc.get_pandoc_path()  # will raise if missing\n",
    "except OSError:\n",
    "    print(\"Pandoc not found. Downloading...\")\n",
    "    pypandoc.download_pandoc()"
   ],
   "id": "5d129cac4434713b",
   "outputs": [],
   "execution_count": 3
  },
  {
   "metadata": {
    "ExecuteTime": {
     "end_time": "2025-08-05T16:22:36.354159Z",
     "start_time": "2025-08-05T16:22:27.710298Z"
    }
   },
   "cell_type": "code",
   "source": [
    "files = [\n",
    "    (r'C:\\Users\\CARRK\\Downloads\\compass_artifact_wf-45318dc2-685c-4ee5-b40e-5e0bb8535560_text_markdown.md', 'mixtral.docx'),\n",
    "    (r'C:\\Users\\CARRK\\Downloads\\compass_artifact_wf-8a17e2a4-0a56-46e2-8bd6-a1f924b9d5e5_text_markdown.md', 'ai_translation.docx'),\n",
    "]\n",
    "\n",
    "for file_in, file_out in files:\n",
    "    pypandoc.convert_file(file_in, 'docx', outputfile=file_out)"
   ],
   "id": "7b8229a422e95104",
   "outputs": [],
   "execution_count": 5
  },
  {
   "metadata": {},
   "cell_type": "code",
   "source": "",
   "id": "6018ac8fde9529db",
   "outputs": [],
   "execution_count": null
  }
 ],
 "metadata": {
  "kernelspec": {
   "display_name": "Python 3",
   "language": "python",
   "name": "python3"
  },
  "language_info": {
   "codemirror_mode": {
    "name": "ipython",
    "version": 2
   },
   "file_extension": ".py",
   "mimetype": "text/x-python",
   "name": "python",
   "nbconvert_exporter": "python",
   "pygments_lexer": "ipython2",
   "version": "2.7.6"
  }
 },
 "nbformat": 4,
 "nbformat_minor": 5
}
