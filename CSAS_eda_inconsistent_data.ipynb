{
 "cells": [
  {
   "cell_type": "code",
   "execution_count": 1,
   "metadata": {
    "ExecuteTime": {
     "end_time": "2024-04-18T17:36:39.361912300Z",
     "start_time": "2024-04-18T17:36:37.518154200Z"
    }
   },
   "outputs": [],
   "source": [
    "import pandas as pd\n",
    "import matplotlib.pyplot as plt\n",
    "from helpers import *\n",
    "\n",
    "# pandas formatting\n",
    "pd.set_option('display.max_rows', 100)\n",
    "pd.set_option('display.max_columns', 100)\n",
    "pd.set_option('max_colwidth', 200)"
   ]
  },
  {
   "cell_type": "code",
   "execution_count": 2,
   "metadata": {
    "ExecuteTime": {
     "end_time": "2024-04-18T17:36:41.420001200Z",
     "start_time": "2024-04-18T17:36:39.365915Z"
    }
   },
   "outputs": [],
   "source": [
    "csas_requests = sql(\"SELECT * FROM csas2_csasrequest\")\n",
    "request_reviews = sql(\"SELECT * FROM csas2_csasrequestreview\")\n",
    "request_reviewers = sql(\"SELECT * FROM csas2_requestreviewer\")\n",
    "request_notes = sql(\"SELECT * FROM csas2_csasrequestnote\")\n",
    "processes = sql(\"SELECT * FROM csas2_process\")\n",
    "process_notes = sql(\"SELECT * FROM csas2_processnote\")\n",
    "tors = sql(\"SELECT * FROM csas2_termsofreference\")\n",
    "tor_reviewers = sql(\"SELECT * FROM csas2_torreviewer\")\n",
    "meetings = sql(\"SELECT * FROM csas2_meeting\")\n",
    "meeting_note = sql(\"SELECT * FROM csas2_meetingnote\")\n",
    "documents = sql(\"SELECT * FROM csas2_document\")\n",
    "document_notes = sql(\"SELECT * FROM csas2_documentnote\")\n",
    "document_tracking = sql(\"SELECT * FROM csas2_documenttracking\")\n",
    "\n",
    "all_tables = [csas_requests, request_reviews, request_reviewers, request_notes, processes, process_notes, \n",
    "              tors, tor_reviewers, meetings, meeting_note, documents, document_notes, document_tracking]\n"
   ]
  },
  {
   "cell_type": "code",
   "outputs": [],
   "source": [
    "def find_var_name(var):\n",
    "    for name, value in globals().items():\n",
    "        if value is var:\n",
    "            return name\n",
    "    return None"
   ],
   "metadata": {
    "collapsed": false,
    "ExecuteTime": {
     "end_time": "2024-04-18T17:36:41.445886800Z",
     "start_time": "2024-04-18T17:36:41.422916600Z"
    }
   },
   "execution_count": 3
  },
  {
   "cell_type": "markdown",
   "source": [
    "## Virtual Meetings"
   ],
   "metadata": {
    "collapsed": false
   }
  },
  {
   "cell_type": "code",
   "outputs": [
    {
     "data": {
      "text/plain": "      id  \\\n2      4   \n4      8   \n122  162   \n179  226   \n223  296   \n226  299   \n277  360   \n293  381   \n310  400   \n322  412   \n352  448   \n353  449   \n354  450   \n355  451   \n380  481   \n426  536   \n427  537   \n453  563   \n455  565   \n456  566   \n458  568   \n461  571   \n462  572   \n463  573   \n464  574   \n465  575   \n466  576   \n467  577   \n468  578   \n469  579   \n470  580   \n471  581   \n472  582   \n473  583   \n474  584   \n475  585   \n476  586   \n480  590   \n483  593   \n484  594   \n489  599   \n490  600   \n494  604   \n531  642   \n563  678   \n565  680   \n567  682   \n569  684   \n571  686   \n573  688   \n575  690   \n582  697   \n586  701   \n\n                                                                                                                                                                                                     name  \\\n2                                                                                                                                 Validation of DO as MEQ measure of nutrient loading status of estuaries   \n4                                                               Status of Atlantic salmon in Gulf Region and assessment of reference points and decision rules that conform to the precautionary approach   \n122                                                                                                                                                       Stock Assessment of Capelin in Divisions 2J+3KL   \n179                                                                                   Recovery Potential Assessment – Northern Brook Lamprey (Ichthyomyzon fossor) – Saskatchewan-Nelson River Population   \n223                                                                                                                                         Update of Stock Status for Lobster in Lobster Fishing Area 33   \n226                                                                                                                                         Update of Stock Status for Lobster in Lobster Fishing Area 41   \n277                                                                                                                                          A data synopsis for British Columbia groundfish: 2021 update   \n293                                                                                                                                                                            Steering Committee Meeting   \n310                                                     Technical Review of Project-Specific Drill Cutting Dispersion Modelling for Tilt Cove Exploration Drilling Project Environmental Impact Statement   \n322                                    Identification of Vulnerable Marine Ecosystems on Seamounts in the North Pacific Fisheries Commission Convention Area using Visual Surveys and Distribution Models   \n352                                                                                               Identification of Areas to Apply Spatial Management Measures to Protect Southern Resident Killer Whales   \n353                                                                                                                                   Threat assessment for northern bottlenose whales off eastern Canada   \n354                                                                                                           Assessment of Northwest Atlantic Fisheries Organization (NAFO) Subdivision 3Ps Atlantic Cod   \n355                                                                                                           Assessment of Northwest Atlantic Fisheries Organization (NAFO) Subdivision 3Ps Thorny skate   \n380                                                                                                                            Twenty-third Annual Meeting of the Atlantic Zone Monitoring Program (AZMP)   \n426                                                                                                         Pre-COSEWIC Assessment for Atlantic Salmon Part III: Review of information province of Quebec   \n427                                                                                         Review of an Alternate Precautionary Approach Framework for Snow Crab in the Newfoundland and Labrador Region   \n453    Assessment of the risk to Fraser River Sockeye Salmon due to Viral Hemorrhagic Septicemia Virus (VHSV) transfer from Atlantic Salmon farms located in the Discovery Islands area, British Columbia   \n455                                                                  Guidance on the use of targeted environmental DNA (eDNA) analysis for the management of Aquatic Invasive Species and Species at Risk   \n456                                                                                                                           Continuation of 4VWX Herring Framework Part II: Operating Model Development   \n458                             Quantifying Changes in the Distribution of Atlantic Cod and Yellowtail Flounder on Georges Bank: A Case Study of the Canadian Offshore Scallop Fishery Time-Area Closures   \n461                                                                             A national monitoring framework for coral and sponge areas identified as Other Effective Area-Based Conservation Measures   \n462                                                                                                                                      Assessment of the Quebec North Shore (4S) herring stocks in 2020   \n463  Review of Methods for Developing Catch Limits for Greenland Cockle (Serripes groenlandicus) and Northern Propellerclam (Cyrtodaria siliqua) in the Banquereau and Grand Bank Offshore Clam Fisheries   \n464                                                                                                      Pre-COSEWIC Assessment for Atlantic Salmon  Part I: Review of information for designatable units   \n465                                                                                                    Pre-COSEWIC Assessment of Atlantic Salmon Part II: Review of information Newfoundland and Labrador   \n466                                                                                                        Assessment of Northern Shrimp in SFAs 4-6, EAZ & WAZ and of Striped Shrimp in SFA 4, EAZ & WAZ   \n467                                                                                                                                                        Stock Assessment of Northern Cod (Divs. 2J3KL)   \n468                                                                                                           Recovery Potential Assessment – Shortfin Mako Shark (Isurus oxyrinchus) Atlantic Population   \n469                                                                                                                                            Assessment of Atlantic Salmon in Newfoundland and Labrador   \n470                                                                                                                                                              2HJ, 3KLNOP, and 4R Snow Crab Assessment   \n471                                                                                                                                                                Assessment of Divisions 2J+3KL Capelin   \n472                                                                                                           Evaluation of Two-year Model Projections for the Bay of Fundy and SFA 29W Scallop Fisheries   \n473                                                                                                 Evaluation of Two-year Model Projections for Georges Bank ‘a’ and Browns Bank north Scallop Fisheries   \n474                                                   Science Advice on “Clean, Drain, Dry and Decontaminate” Treatments and Protocols to Prevent the Introduction and Spread of Aquatic Invasive Species   \n475                                                                                                                                        Assessment of the Gulf of St. Lawrence (4RST) Atlantic halibut   \n476                                                                                                   Science advice on revisiting Pathways of Effects (PoE) diagrams in support of FFHPP risk assessment   \n480                                                                                       Science advice for assessing cumulative effects in support of policy development and regulatory decision-making   \n483                                                                                     Review of Three Marine Harvest Atlantic Canada Aquaculture Siting Baseline Assessments, Chaleur Bay, Newfoundland   \n484                                                                                      Assessment of Redfish in Northwest Atlantic Fisheries Organization (NAFO) Subarea 0, and Subarea 2 + Division 3K   \n489                                                                                                                                                             Stock Assessment of 2HJ3KLNOP4R Snow Crab   \n490                                                                                                                                              Northern Hudson Bay Narwhal - Sustainable Harvest Advice   \n494                                                                                         Gully Marine Protected Area Monitoring: Review of Research Activities, Indicators, and Guidance on Next Steps   \n531                                                                                          Southern Gulf of St. Lawrence, NAFO Division 4T, Sea Scallop (Placopecten magellanicus) stock status to 2022   \n563                                                                                                                                                    Northern (2J3KL) Atlantic Cod Assessment Framework   \n565                                                                                                                                                                           3Ps Atlantic Cod Assessment   \n567                                                                                                                                         Newfoundland & Labrador Comparative Fishing Analysis - Part 2   \n569                                                                                                                                                          Stock Assessment of Snow Crab in 2HJ3KLNOP4R   \n571                                                                                       Assessment of Iceland Scallop in the Canada France Transboundary zone of St. Pierre Bank (NAFO subdivision 3Ps)   \n573                                                                                                                                                             Stock Assessment of Northern Cod in 2J3KL   \n575                                                                                                      Net Impacts of the Construction of Wharves and Breakwaters on Fish and Fish Habitat in NL Waters   \n582                                                                                                 Stock Assessment for Northern Shrimp (P. borealis) in SFAs 4, 5, and 6 for the 2024-25 fishing season   \n586                                                                                                                                  Stock Status Update of Striped Shrimp in Shrimp Fishing Area (SFA) 4   \n\n                             location  is_virtual  \n2                             Virtual           0  \n4                             Virtual           0  \n122        St. John's, NL and Virtual           0  \n179  Winnipeg, MB and Virtual Meeting           0  \n223                           Virtual           0  \n226                           Virtual           0  \n277                           Virtual           0  \n293                           Virtual           0  \n310        St. John's, NL and Virtual           0  \n322                   Virtual Meeting           0  \n352                   Virtual meeting           0  \n353                   Virtual meeting           0  \n354                   Virtual meeting           0  \n355                   Virtual meeting           0  \n380                   Virtual meeting           0  \n426                   Virtual meeting           0  \n427                   Virtual meeting           0  \n453                   Virtual meeting           0  \n455                   Virtual meeting           0  \n456                   Virtual meeting           0  \n458                   Virtual meeting           0  \n461                   Virtual meeting           0  \n462                   Virtual meeting           0  \n463                   Virtual meeting           0  \n464                   Virtual meeting           0  \n465                   Virtual meeting           0  \n466                   Virtual meeting           0  \n467                   Virtual meeting           0  \n468                   Virtual meeting           0  \n469                   Virtual meeting           0  \n470                   Virtual meeting           0  \n471                   Virtual meeting           0  \n472                   Virtual meeting           0  \n473                   Virtual meeting           0  \n474                   Virtual meeting           0  \n475                   Virtual meeting           0  \n476                   Virtual meeting           0  \n480                   Virtual meeting           0  \n483                   Virtual meeting           0  \n484                   Virtual meeting           0  \n489                   Virtual meeting           0  \n490                   Virtual meeting           0  \n494                   Virtual meeting           0  \n531                           Virtual           0  \n563        St. John's, NL and Virtual           0  \n565        St. John's, NL and Virtual           0  \n567        St. John's, NL and Virtual           0  \n569        St. John's, NL and Virtual           0  \n571        St. John's, NL and Virtual           0  \n573        St. John's, NL and Virtual           0  \n575        St. John's, NL and Virtual           0  \n582        St. John's, NL and Virtual           0  \n586        St. John's, NL and Virtual           0  ",
      "text/html": "<div>\n<style scoped>\n    .dataframe tbody tr th:only-of-type {\n        vertical-align: middle;\n    }\n\n    .dataframe tbody tr th {\n        vertical-align: top;\n    }\n\n    .dataframe thead th {\n        text-align: right;\n    }\n</style>\n<table border=\"1\" class=\"dataframe\">\n  <thead>\n    <tr style=\"text-align: right;\">\n      <th></th>\n      <th>id</th>\n      <th>name</th>\n      <th>location</th>\n      <th>is_virtual</th>\n    </tr>\n  </thead>\n  <tbody>\n    <tr>\n      <th>2</th>\n      <td>4</td>\n      <td>Validation of DO as MEQ measure of nutrient loading status of estuaries</td>\n      <td>Virtual</td>\n      <td>0</td>\n    </tr>\n    <tr>\n      <th>4</th>\n      <td>8</td>\n      <td>Status of Atlantic salmon in Gulf Region and assessment of reference points and decision rules that conform to the precautionary approach</td>\n      <td>Virtual</td>\n      <td>0</td>\n    </tr>\n    <tr>\n      <th>122</th>\n      <td>162</td>\n      <td>Stock Assessment of Capelin in Divisions 2J+3KL</td>\n      <td>St. John's, NL and Virtual</td>\n      <td>0</td>\n    </tr>\n    <tr>\n      <th>179</th>\n      <td>226</td>\n      <td>Recovery Potential Assessment – Northern Brook Lamprey (Ichthyomyzon fossor) – Saskatchewan-Nelson River Population</td>\n      <td>Winnipeg, MB and Virtual Meeting</td>\n      <td>0</td>\n    </tr>\n    <tr>\n      <th>223</th>\n      <td>296</td>\n      <td>Update of Stock Status for Lobster in Lobster Fishing Area 33</td>\n      <td>Virtual</td>\n      <td>0</td>\n    </tr>\n    <tr>\n      <th>226</th>\n      <td>299</td>\n      <td>Update of Stock Status for Lobster in Lobster Fishing Area 41</td>\n      <td>Virtual</td>\n      <td>0</td>\n    </tr>\n    <tr>\n      <th>277</th>\n      <td>360</td>\n      <td>A data synopsis for British Columbia groundfish: 2021 update</td>\n      <td>Virtual</td>\n      <td>0</td>\n    </tr>\n    <tr>\n      <th>293</th>\n      <td>381</td>\n      <td>Steering Committee Meeting</td>\n      <td>Virtual</td>\n      <td>0</td>\n    </tr>\n    <tr>\n      <th>310</th>\n      <td>400</td>\n      <td>Technical Review of Project-Specific Drill Cutting Dispersion Modelling for Tilt Cove Exploration Drilling Project Environmental Impact Statement</td>\n      <td>St. John's, NL and Virtual</td>\n      <td>0</td>\n    </tr>\n    <tr>\n      <th>322</th>\n      <td>412</td>\n      <td>Identification of Vulnerable Marine Ecosystems on Seamounts in the North Pacific Fisheries Commission Convention Area using Visual Surveys and Distribution Models</td>\n      <td>Virtual Meeting</td>\n      <td>0</td>\n    </tr>\n    <tr>\n      <th>352</th>\n      <td>448</td>\n      <td>Identification of Areas to Apply Spatial Management Measures to Protect Southern Resident Killer Whales</td>\n      <td>Virtual meeting</td>\n      <td>0</td>\n    </tr>\n    <tr>\n      <th>353</th>\n      <td>449</td>\n      <td>Threat assessment for northern bottlenose whales off eastern Canada</td>\n      <td>Virtual meeting</td>\n      <td>0</td>\n    </tr>\n    <tr>\n      <th>354</th>\n      <td>450</td>\n      <td>Assessment of Northwest Atlantic Fisheries Organization (NAFO) Subdivision 3Ps Atlantic Cod</td>\n      <td>Virtual meeting</td>\n      <td>0</td>\n    </tr>\n    <tr>\n      <th>355</th>\n      <td>451</td>\n      <td>Assessment of Northwest Atlantic Fisheries Organization (NAFO) Subdivision 3Ps Thorny skate</td>\n      <td>Virtual meeting</td>\n      <td>0</td>\n    </tr>\n    <tr>\n      <th>380</th>\n      <td>481</td>\n      <td>Twenty-third Annual Meeting of the Atlantic Zone Monitoring Program (AZMP)</td>\n      <td>Virtual meeting</td>\n      <td>0</td>\n    </tr>\n    <tr>\n      <th>426</th>\n      <td>536</td>\n      <td>Pre-COSEWIC Assessment for Atlantic Salmon Part III: Review of information province of Quebec</td>\n      <td>Virtual meeting</td>\n      <td>0</td>\n    </tr>\n    <tr>\n      <th>427</th>\n      <td>537</td>\n      <td>Review of an Alternate Precautionary Approach Framework for Snow Crab in the Newfoundland and Labrador Region</td>\n      <td>Virtual meeting</td>\n      <td>0</td>\n    </tr>\n    <tr>\n      <th>453</th>\n      <td>563</td>\n      <td>Assessment of the risk to Fraser River Sockeye Salmon due to Viral Hemorrhagic Septicemia Virus (VHSV) transfer from Atlantic Salmon farms located in the Discovery Islands area, British Columbia</td>\n      <td>Virtual meeting</td>\n      <td>0</td>\n    </tr>\n    <tr>\n      <th>455</th>\n      <td>565</td>\n      <td>Guidance on the use of targeted environmental DNA (eDNA) analysis for the management of Aquatic Invasive Species and Species at Risk</td>\n      <td>Virtual meeting</td>\n      <td>0</td>\n    </tr>\n    <tr>\n      <th>456</th>\n      <td>566</td>\n      <td>Continuation of 4VWX Herring Framework Part II: Operating Model Development</td>\n      <td>Virtual meeting</td>\n      <td>0</td>\n    </tr>\n    <tr>\n      <th>458</th>\n      <td>568</td>\n      <td>Quantifying Changes in the Distribution of Atlantic Cod and Yellowtail Flounder on Georges Bank: A Case Study of the Canadian Offshore Scallop Fishery Time-Area Closures</td>\n      <td>Virtual meeting</td>\n      <td>0</td>\n    </tr>\n    <tr>\n      <th>461</th>\n      <td>571</td>\n      <td>A national monitoring framework for coral and sponge areas identified as Other Effective Area-Based Conservation Measures</td>\n      <td>Virtual meeting</td>\n      <td>0</td>\n    </tr>\n    <tr>\n      <th>462</th>\n      <td>572</td>\n      <td>Assessment of the Quebec North Shore (4S) herring stocks in 2020</td>\n      <td>Virtual meeting</td>\n      <td>0</td>\n    </tr>\n    <tr>\n      <th>463</th>\n      <td>573</td>\n      <td>Review of Methods for Developing Catch Limits for Greenland Cockle (Serripes groenlandicus) and Northern Propellerclam (Cyrtodaria siliqua) in the Banquereau and Grand Bank Offshore Clam Fisheries</td>\n      <td>Virtual meeting</td>\n      <td>0</td>\n    </tr>\n    <tr>\n      <th>464</th>\n      <td>574</td>\n      <td>Pre-COSEWIC Assessment for Atlantic Salmon  Part I: Review of information for designatable units</td>\n      <td>Virtual meeting</td>\n      <td>0</td>\n    </tr>\n    <tr>\n      <th>465</th>\n      <td>575</td>\n      <td>Pre-COSEWIC Assessment of Atlantic Salmon Part II: Review of information Newfoundland and Labrador</td>\n      <td>Virtual meeting</td>\n      <td>0</td>\n    </tr>\n    <tr>\n      <th>466</th>\n      <td>576</td>\n      <td>Assessment of Northern Shrimp in SFAs 4-6, EAZ &amp; WAZ and of Striped Shrimp in SFA 4, EAZ &amp; WAZ</td>\n      <td>Virtual meeting</td>\n      <td>0</td>\n    </tr>\n    <tr>\n      <th>467</th>\n      <td>577</td>\n      <td>Stock Assessment of Northern Cod (Divs. 2J3KL)</td>\n      <td>Virtual meeting</td>\n      <td>0</td>\n    </tr>\n    <tr>\n      <th>468</th>\n      <td>578</td>\n      <td>Recovery Potential Assessment – Shortfin Mako Shark (Isurus oxyrinchus) Atlantic Population</td>\n      <td>Virtual meeting</td>\n      <td>0</td>\n    </tr>\n    <tr>\n      <th>469</th>\n      <td>579</td>\n      <td>Assessment of Atlantic Salmon in Newfoundland and Labrador</td>\n      <td>Virtual meeting</td>\n      <td>0</td>\n    </tr>\n    <tr>\n      <th>470</th>\n      <td>580</td>\n      <td>2HJ, 3KLNOP, and 4R Snow Crab Assessment</td>\n      <td>Virtual meeting</td>\n      <td>0</td>\n    </tr>\n    <tr>\n      <th>471</th>\n      <td>581</td>\n      <td>Assessment of Divisions 2J+3KL Capelin</td>\n      <td>Virtual meeting</td>\n      <td>0</td>\n    </tr>\n    <tr>\n      <th>472</th>\n      <td>582</td>\n      <td>Evaluation of Two-year Model Projections for the Bay of Fundy and SFA 29W Scallop Fisheries</td>\n      <td>Virtual meeting</td>\n      <td>0</td>\n    </tr>\n    <tr>\n      <th>473</th>\n      <td>583</td>\n      <td>Evaluation of Two-year Model Projections for Georges Bank ‘a’ and Browns Bank north Scallop Fisheries</td>\n      <td>Virtual meeting</td>\n      <td>0</td>\n    </tr>\n    <tr>\n      <th>474</th>\n      <td>584</td>\n      <td>Science Advice on “Clean, Drain, Dry and Decontaminate” Treatments and Protocols to Prevent the Introduction and Spread of Aquatic Invasive Species</td>\n      <td>Virtual meeting</td>\n      <td>0</td>\n    </tr>\n    <tr>\n      <th>475</th>\n      <td>585</td>\n      <td>Assessment of the Gulf of St. Lawrence (4RST) Atlantic halibut</td>\n      <td>Virtual meeting</td>\n      <td>0</td>\n    </tr>\n    <tr>\n      <th>476</th>\n      <td>586</td>\n      <td>Science advice on revisiting Pathways of Effects (PoE) diagrams in support of FFHPP risk assessment</td>\n      <td>Virtual meeting</td>\n      <td>0</td>\n    </tr>\n    <tr>\n      <th>480</th>\n      <td>590</td>\n      <td>Science advice for assessing cumulative effects in support of policy development and regulatory decision-making</td>\n      <td>Virtual meeting</td>\n      <td>0</td>\n    </tr>\n    <tr>\n      <th>483</th>\n      <td>593</td>\n      <td>Review of Three Marine Harvest Atlantic Canada Aquaculture Siting Baseline Assessments, Chaleur Bay, Newfoundland</td>\n      <td>Virtual meeting</td>\n      <td>0</td>\n    </tr>\n    <tr>\n      <th>484</th>\n      <td>594</td>\n      <td>Assessment of Redfish in Northwest Atlantic Fisheries Organization (NAFO) Subarea 0, and Subarea 2 + Division 3K</td>\n      <td>Virtual meeting</td>\n      <td>0</td>\n    </tr>\n    <tr>\n      <th>489</th>\n      <td>599</td>\n      <td>Stock Assessment of 2HJ3KLNOP4R Snow Crab</td>\n      <td>Virtual meeting</td>\n      <td>0</td>\n    </tr>\n    <tr>\n      <th>490</th>\n      <td>600</td>\n      <td>Northern Hudson Bay Narwhal - Sustainable Harvest Advice</td>\n      <td>Virtual meeting</td>\n      <td>0</td>\n    </tr>\n    <tr>\n      <th>494</th>\n      <td>604</td>\n      <td>Gully Marine Protected Area Monitoring: Review of Research Activities, Indicators, and Guidance on Next Steps</td>\n      <td>Virtual meeting</td>\n      <td>0</td>\n    </tr>\n    <tr>\n      <th>531</th>\n      <td>642</td>\n      <td>Southern Gulf of St. Lawrence, NAFO Division 4T, Sea Scallop (Placopecten magellanicus) stock status to 2022</td>\n      <td>Virtual</td>\n      <td>0</td>\n    </tr>\n    <tr>\n      <th>563</th>\n      <td>678</td>\n      <td>Northern (2J3KL) Atlantic Cod Assessment Framework</td>\n      <td>St. John's, NL and Virtual</td>\n      <td>0</td>\n    </tr>\n    <tr>\n      <th>565</th>\n      <td>680</td>\n      <td>3Ps Atlantic Cod Assessment</td>\n      <td>St. John's, NL and Virtual</td>\n      <td>0</td>\n    </tr>\n    <tr>\n      <th>567</th>\n      <td>682</td>\n      <td>Newfoundland &amp; Labrador Comparative Fishing Analysis - Part 2</td>\n      <td>St. John's, NL and Virtual</td>\n      <td>0</td>\n    </tr>\n    <tr>\n      <th>569</th>\n      <td>684</td>\n      <td>Stock Assessment of Snow Crab in 2HJ3KLNOP4R</td>\n      <td>St. John's, NL and Virtual</td>\n      <td>0</td>\n    </tr>\n    <tr>\n      <th>571</th>\n      <td>686</td>\n      <td>Assessment of Iceland Scallop in the Canada France Transboundary zone of St. Pierre Bank (NAFO subdivision 3Ps)</td>\n      <td>St. John's, NL and Virtual</td>\n      <td>0</td>\n    </tr>\n    <tr>\n      <th>573</th>\n      <td>688</td>\n      <td>Stock Assessment of Northern Cod in 2J3KL</td>\n      <td>St. John's, NL and Virtual</td>\n      <td>0</td>\n    </tr>\n    <tr>\n      <th>575</th>\n      <td>690</td>\n      <td>Net Impacts of the Construction of Wharves and Breakwaters on Fish and Fish Habitat in NL Waters</td>\n      <td>St. John's, NL and Virtual</td>\n      <td>0</td>\n    </tr>\n    <tr>\n      <th>582</th>\n      <td>697</td>\n      <td>Stock Assessment for Northern Shrimp (P. borealis) in SFAs 4, 5, and 6 for the 2024-25 fishing season</td>\n      <td>St. John's, NL and Virtual</td>\n      <td>0</td>\n    </tr>\n    <tr>\n      <th>586</th>\n      <td>701</td>\n      <td>Stock Status Update of Striped Shrimp in Shrimp Fishing Area (SFA) 4</td>\n      <td>St. John's, NL and Virtual</td>\n      <td>0</td>\n    </tr>\n  </tbody>\n</table>\n</div>"
     },
     "execution_count": 54,
     "metadata": {},
     "output_type": "execute_result"
    }
   ],
   "source": [
    "meetings.loc[(meetings.is_virtual == 0) & (meetings.location.str.contains('virtual', case=False)), ['id', 'name', 'location', 'is_virtual']]"
   ],
   "metadata": {
    "collapsed": false,
    "ExecuteTime": {
     "end_time": "2024-04-18T18:06:13.356936Z",
     "start_time": "2024-04-18T18:06:13.330223300Z"
    }
   },
   "execution_count": 54
  },
  {
   "cell_type": "markdown",
   "source": [
    "## Inconsistent Links"
   ],
   "metadata": {
    "collapsed": false
   }
  },
  {
   "cell_type": "code",
   "outputs": [
    {
     "name": "stdout",
     "output_type": "stream",
     "text": [
      "11: Dissolved oxygen as a Marine Environmental Quality (MEQ) measure in upper estuaries of the southern Gulf of St. Lawrence: Implications for nutrient management and eelgrass (Zostera marina) coverage\n"
     ]
    },
    {
     "data": {
      "text/plain": "                                                                                                      7\nurl_en           http://www.dfo-mpo.gc.ca/csas-sccs/Publications/ResDocs-DocRech/2021/2021_056-fra.html\nlibrary_link_en                                                                                    None\nurl_fr           http://www.dfo-mpo.gc.ca/csas-sccs/Publications/ResDocs-DocRech/2021/2021_056-fra.html\nlibrary_link_fr                                                                                    None",
      "text/html": "<div>\n<style scoped>\n    .dataframe tbody tr th:only-of-type {\n        vertical-align: middle;\n    }\n\n    .dataframe tbody tr th {\n        vertical-align: top;\n    }\n\n    .dataframe thead th {\n        text-align: right;\n    }\n</style>\n<table border=\"1\" class=\"dataframe\">\n  <thead>\n    <tr style=\"text-align: right;\">\n      <th></th>\n      <th>7</th>\n    </tr>\n  </thead>\n  <tbody>\n    <tr>\n      <th>url_en</th>\n      <td>http://www.dfo-mpo.gc.ca/csas-sccs/Publications/ResDocs-DocRech/2021/2021_056-fra.html</td>\n    </tr>\n    <tr>\n      <th>library_link_en</th>\n      <td>None</td>\n    </tr>\n    <tr>\n      <th>url_fr</th>\n      <td>http://www.dfo-mpo.gc.ca/csas-sccs/Publications/ResDocs-DocRech/2021/2021_056-fra.html</td>\n    </tr>\n    <tr>\n      <th>library_link_fr</th>\n      <td>None</td>\n    </tr>\n  </tbody>\n</table>\n</div>"
     },
     "metadata": {},
     "output_type": "display_data"
    },
    {
     "name": "stdout",
     "output_type": "stream",
     "text": [
      "363: Stock Assessment of NAFO Subdivision 3Ps Cod\n"
     ]
    },
    {
     "data": {
      "text/plain": "                                                                                            308\nurl_en           https://www.dfo-mpo.gc.ca/csas-sccs/Publications/SAR-AS/2017/2017_002-eng.html\nlibrary_link_en  https://www.dfo-mpo.gc.ca/csas-sccs/Publications/SAR-AS/2017/2017_002-eng.html\nurl_fr           https://www.dfo-mpo.gc.ca/csas-sccs/Publications/SAR-AS/2017/2017_002-eng.html\nlibrary_link_fr  https://www.dfo-mpo.gc.ca/csas-sccs/Publications/SAR-AS/2017/2017_002-eng.html",
      "text/html": "<div>\n<style scoped>\n    .dataframe tbody tr th:only-of-type {\n        vertical-align: middle;\n    }\n\n    .dataframe tbody tr th {\n        vertical-align: top;\n    }\n\n    .dataframe thead th {\n        text-align: right;\n    }\n</style>\n<table border=\"1\" class=\"dataframe\">\n  <thead>\n    <tr style=\"text-align: right;\">\n      <th></th>\n      <th>308</th>\n    </tr>\n  </thead>\n  <tbody>\n    <tr>\n      <th>url_en</th>\n      <td>https://www.dfo-mpo.gc.ca/csas-sccs/Publications/SAR-AS/2017/2017_002-eng.html</td>\n    </tr>\n    <tr>\n      <th>library_link_en</th>\n      <td>https://www.dfo-mpo.gc.ca/csas-sccs/Publications/SAR-AS/2017/2017_002-eng.html</td>\n    </tr>\n    <tr>\n      <th>url_fr</th>\n      <td>https://www.dfo-mpo.gc.ca/csas-sccs/Publications/SAR-AS/2017/2017_002-eng.html</td>\n    </tr>\n    <tr>\n      <th>library_link_fr</th>\n      <td>https://www.dfo-mpo.gc.ca/csas-sccs/Publications/SAR-AS/2017/2017_002-eng.html</td>\n    </tr>\n  </tbody>\n</table>\n</div>"
     },
     "metadata": {},
     "output_type": "display_data"
    },
    {
     "name": "stdout",
     "output_type": "stream",
     "text": [
      "408: Recovery Potential Assessment for the American Eel (Anguilla rostrata) for eastern Canada: recovery potential assessment population modelling\n"
     ]
    },
    {
     "data": {
      "text/plain": "                                                                                                     353\nurl_en           https://www.dfo-mpo.gc.ca/csas-sccs/Publications/ResDocs-DocRech/2013/2013_132-eng.html\nlibrary_link_en  https://www.dfo-mpo.gc.ca/csas-sccs/Publications/ResDocs-DocRech/2013/2013_132-eng.html\nurl_fr           https://www.dfo-mpo.gc.ca/csas-sccs/Publications/ResDocs-DocRech/2013/2013_132-eng.html\nlibrary_link_fr  https://www.dfo-mpo.gc.ca/csas-sccs/Publications/ResDocs-DocRech/2013/2013_132-eng.html",
      "text/html": "<div>\n<style scoped>\n    .dataframe tbody tr th:only-of-type {\n        vertical-align: middle;\n    }\n\n    .dataframe tbody tr th {\n        vertical-align: top;\n    }\n\n    .dataframe thead th {\n        text-align: right;\n    }\n</style>\n<table border=\"1\" class=\"dataframe\">\n  <thead>\n    <tr style=\"text-align: right;\">\n      <th></th>\n      <th>353</th>\n    </tr>\n  </thead>\n  <tbody>\n    <tr>\n      <th>url_en</th>\n      <td>https://www.dfo-mpo.gc.ca/csas-sccs/Publications/ResDocs-DocRech/2013/2013_132-eng.html</td>\n    </tr>\n    <tr>\n      <th>library_link_en</th>\n      <td>https://www.dfo-mpo.gc.ca/csas-sccs/Publications/ResDocs-DocRech/2013/2013_132-eng.html</td>\n    </tr>\n    <tr>\n      <th>url_fr</th>\n      <td>https://www.dfo-mpo.gc.ca/csas-sccs/Publications/ResDocs-DocRech/2013/2013_132-eng.html</td>\n    </tr>\n    <tr>\n      <th>library_link_fr</th>\n      <td>https://www.dfo-mpo.gc.ca/csas-sccs/Publications/ResDocs-DocRech/2013/2013_132-eng.html</td>\n    </tr>\n  </tbody>\n</table>\n</div>"
     },
     "metadata": {},
     "output_type": "display_data"
    },
    {
     "name": "stdout",
     "output_type": "stream",
     "text": [
      "409: Recovery Potential Assessment for the American Eel (Anguilla rostrata) in eastern Canada: functional description of habitat\n"
     ]
    },
    {
     "data": {
      "text/plain": "                                                                                                     354\nurl_en           https://www.dfo-mpo.gc.ca/csas-sccs/Publications/ResDocs-DocRech/2013/2013_132-eng.html\nlibrary_link_en  https://www.dfo-mpo.gc.ca/csas-sccs/Publications/ResDocs-DocRech/2013/2013_132-eng.html\nurl_fr           https://www.dfo-mpo.gc.ca/csas-sccs/Publications/ResDocs-DocRech/2013/2013_132-eng.html\nlibrary_link_fr  https://www.dfo-mpo.gc.ca/csas-sccs/Publications/ResDocs-DocRech/2013/2013_132-eng.html",
      "text/html": "<div>\n<style scoped>\n    .dataframe tbody tr th:only-of-type {\n        vertical-align: middle;\n    }\n\n    .dataframe tbody tr th {\n        vertical-align: top;\n    }\n\n    .dataframe thead th {\n        text-align: right;\n    }\n</style>\n<table border=\"1\" class=\"dataframe\">\n  <thead>\n    <tr style=\"text-align: right;\">\n      <th></th>\n      <th>354</th>\n    </tr>\n  </thead>\n  <tbody>\n    <tr>\n      <th>url_en</th>\n      <td>https://www.dfo-mpo.gc.ca/csas-sccs/Publications/ResDocs-DocRech/2013/2013_132-eng.html</td>\n    </tr>\n    <tr>\n      <th>library_link_en</th>\n      <td>https://www.dfo-mpo.gc.ca/csas-sccs/Publications/ResDocs-DocRech/2013/2013_132-eng.html</td>\n    </tr>\n    <tr>\n      <th>url_fr</th>\n      <td>https://www.dfo-mpo.gc.ca/csas-sccs/Publications/ResDocs-DocRech/2013/2013_132-eng.html</td>\n    </tr>\n    <tr>\n      <th>library_link_fr</th>\n      <td>https://www.dfo-mpo.gc.ca/csas-sccs/Publications/ResDocs-DocRech/2013/2013_132-eng.html</td>\n    </tr>\n  </tbody>\n</table>\n</div>"
     },
     "metadata": {},
     "output_type": "display_data"
    },
    {
     "name": "stdout",
     "output_type": "stream",
     "text": [
      "449: Recovery potential assessment of American Eel (Anguilla rostrata) in eastern Canada\n"
     ]
    },
    {
     "data": {
      "text/plain": "                                                                                            393\nurl_en           https://www.dfo-mpo.gc.ca/csas-sccs/Publications/SAR-AS/2013/2013_078-eng.html\nlibrary_link_en  https://www.dfo-mpo.gc.ca/csas-sccs/Publications/SAR-AS/2013/2013_078-eng.html\nurl_fr           https://www.dfo-mpo.gc.ca/csas-sccs/Publications/SAR-AS/2013/2013_078-eng.html\nlibrary_link_fr  https://www.dfo-mpo.gc.ca/csas-sccs/Publications/SAR-AS/2013/2013_078-eng.html",
      "text/html": "<div>\n<style scoped>\n    .dataframe tbody tr th:only-of-type {\n        vertical-align: middle;\n    }\n\n    .dataframe tbody tr th {\n        vertical-align: top;\n    }\n\n    .dataframe thead th {\n        text-align: right;\n    }\n</style>\n<table border=\"1\" class=\"dataframe\">\n  <thead>\n    <tr style=\"text-align: right;\">\n      <th></th>\n      <th>393</th>\n    </tr>\n  </thead>\n  <tbody>\n    <tr>\n      <th>url_en</th>\n      <td>https://www.dfo-mpo.gc.ca/csas-sccs/Publications/SAR-AS/2013/2013_078-eng.html</td>\n    </tr>\n    <tr>\n      <th>library_link_en</th>\n      <td>https://www.dfo-mpo.gc.ca/csas-sccs/Publications/SAR-AS/2013/2013_078-eng.html</td>\n    </tr>\n    <tr>\n      <th>url_fr</th>\n      <td>https://www.dfo-mpo.gc.ca/csas-sccs/Publications/SAR-AS/2013/2013_078-eng.html</td>\n    </tr>\n    <tr>\n      <th>library_link_fr</th>\n      <td>https://www.dfo-mpo.gc.ca/csas-sccs/Publications/SAR-AS/2013/2013_078-eng.html</td>\n    </tr>\n  </tbody>\n</table>\n</div>"
     },
     "metadata": {},
     "output_type": "display_data"
    },
    {
     "name": "stdout",
     "output_type": "stream",
     "text": [
      "812:  Assessment of the risk to Fraser River Sockeye Salmon due to viral haemorrhagic septicaemia virus IVa (VHSV-IVa) transfer from Atlantic Salmon farms in the Discovery Islands area, British Columbia\n"
     ]
    },
    {
     "data": {
      "text/plain": "                                                                                                                                                                                                                     712\nurl_en           https://www.dfo-mpo.gc.ca/csas-sccs/Publications/ResDocs-DocRech/2020/2020_065-eng.htmlC:\\Users\\CHOWDHURYN\\AppData\\Roaming\\OpenText\\DM\\Temp\\MECTS-4208621-v17-2020_SRS_ABAAHS_CSAS_2020_065_NCR_Asse...\nlibrary_link_en  https://www.dfo-mpo.gc.ca/csas-sccs/Publications/ResDocs-DocRech/2020/2020_065-eng.htmlC:\\Users\\CHOWDHURYN\\AppData\\Roaming\\OpenText\\DM\\Temp\\MECTS-4208621-v17-2020_SRS_ABAAHS_CSAS_2020_065_NCR_Asse...\nurl_fr           https://www.dfo-mpo.gc.ca/csas-sccs/Publications/ResDocs-DocRech/2020/2020_065-fra.htmlC:\\Users\\CHOWDHURYN\\AppData\\Roaming\\OpenText\\DM\\Temp\\MECTS-4208621-v17-2020_SRS_ABAAHS_CSAS_2020_065_NCR_Asse...\nlibrary_link_fr  https://www.dfo-mpo.gc.ca/csas-sccs/Publications/ResDocs-DocRech/2020/2020_065-fra.htmlC:\\Users\\CHOWDHURYN\\AppData\\Roaming\\OpenText\\DM\\Temp\\MECTS-4208621-v17-2020_SRS_ABAAHS_CSAS_2020_065_NCR_Asse...",
      "text/html": "<div>\n<style scoped>\n    .dataframe tbody tr th:only-of-type {\n        vertical-align: middle;\n    }\n\n    .dataframe tbody tr th {\n        vertical-align: top;\n    }\n\n    .dataframe thead th {\n        text-align: right;\n    }\n</style>\n<table border=\"1\" class=\"dataframe\">\n  <thead>\n    <tr style=\"text-align: right;\">\n      <th></th>\n      <th>712</th>\n    </tr>\n  </thead>\n  <tbody>\n    <tr>\n      <th>url_en</th>\n      <td>https://www.dfo-mpo.gc.ca/csas-sccs/Publications/ResDocs-DocRech/2020/2020_065-eng.htmlC:\\Users\\CHOWDHURYN\\AppData\\Roaming\\OpenText\\DM\\Temp\\MECTS-4208621-v17-2020_SRS_ABAAHS_CSAS_2020_065_NCR_Asse...</td>\n    </tr>\n    <tr>\n      <th>library_link_en</th>\n      <td>https://www.dfo-mpo.gc.ca/csas-sccs/Publications/ResDocs-DocRech/2020/2020_065-eng.htmlC:\\Users\\CHOWDHURYN\\AppData\\Roaming\\OpenText\\DM\\Temp\\MECTS-4208621-v17-2020_SRS_ABAAHS_CSAS_2020_065_NCR_Asse...</td>\n    </tr>\n    <tr>\n      <th>url_fr</th>\n      <td>https://www.dfo-mpo.gc.ca/csas-sccs/Publications/ResDocs-DocRech/2020/2020_065-fra.htmlC:\\Users\\CHOWDHURYN\\AppData\\Roaming\\OpenText\\DM\\Temp\\MECTS-4208621-v17-2020_SRS_ABAAHS_CSAS_2020_065_NCR_Asse...</td>\n    </tr>\n    <tr>\n      <th>library_link_fr</th>\n      <td>https://www.dfo-mpo.gc.ca/csas-sccs/Publications/ResDocs-DocRech/2020/2020_065-fra.htmlC:\\Users\\CHOWDHURYN\\AppData\\Roaming\\OpenText\\DM\\Temp\\MECTS-4208621-v17-2020_SRS_ABAAHS_CSAS_2020_065_NCR_Asse...</td>\n    </tr>\n  </tbody>\n</table>\n</div>"
     },
     "metadata": {},
     "output_type": "display_data"
    }
   ],
   "source": [
    "english_columns = ['url_en', 'library_link_en']\n",
    "french_columns = ['url_fr', 'library_link_fr']\n",
    "\n",
    "english_mask = documents[english_columns].apply(lambda col: col.str.contains(\"fra\", case=False)).any(axis=1)\n",
    "french_mask = documents[french_columns].apply(lambda col: col.str.contains(\"eng\", case=False)).any(axis=1)\n",
    "\n",
    "for _, row in documents.loc[english_mask | french_mask, ['id', 'title_en'] + english_columns + french_columns].iterrows():\n",
    "    print(str(row[0])+':', row[1])\n",
    "    display(pd.DataFrame(row).iloc[2:])"
   ],
   "metadata": {
    "collapsed": false,
    "ExecuteTime": {
     "end_time": "2024-04-18T18:00:53.817096400Z",
     "start_time": "2024-04-18T18:00:53.736749100Z"
    }
   },
   "execution_count": 44
  },
  {
   "cell_type": "markdown",
   "source": [
    "## EDA\n"
   ],
   "metadata": {
    "collapsed": false
   }
  },
  {
   "cell_type": "code",
   "outputs": [],
   "source": [],
   "metadata": {
    "collapsed": false
   }
  },
  {
   "cell_type": "code",
   "outputs": [],
   "source": [],
   "metadata": {
    "collapsed": false
   }
  },
  {
   "cell_type": "code",
   "outputs": [],
   "source": [],
   "metadata": {
    "collapsed": false
   }
  },
  {
   "cell_type": "code",
   "outputs": [],
   "source": [],
   "metadata": {
    "collapsed": false
   }
  },
  {
   "cell_type": "code",
   "outputs": [],
   "source": [],
   "metadata": {
    "collapsed": false
   }
  },
  {
   "cell_type": "code",
   "outputs": [],
   "source": [],
   "metadata": {
    "collapsed": false
   }
  },
  {
   "cell_type": "code",
   "outputs": [],
   "source": [],
   "metadata": {
    "collapsed": false
   }
  }
 ],
 "metadata": {
  "kernelspec": {
   "display_name": "base",
   "language": "python",
   "name": "python3"
  },
  "language_info": {
   "codemirror_mode": {
    "name": "ipython",
    "version": 3
   },
   "file_extension": ".py",
   "mimetype": "text/x-python",
   "name": "python",
   "nbconvert_exporter": "python",
   "pygments_lexer": "ipython3",
   "version": "3.10.9"
  }
 },
 "nbformat": 4,
 "nbformat_minor": 2
}
