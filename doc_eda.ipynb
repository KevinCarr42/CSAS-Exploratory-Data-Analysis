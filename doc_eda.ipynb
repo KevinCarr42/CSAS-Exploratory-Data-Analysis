{
 "cells": [
  {
   "cell_type": "code",
   "id": "initial_id",
   "metadata": {
    "collapsed": true,
    "ExecuteTime": {
     "end_time": "2024-12-30T16:24:26.970272Z",
     "start_time": "2024-12-30T16:24:26.185032Z"
    }
   },
   "source": [
    "import pandas as pd\n",
    "\n",
    "from helpers import sql\n",
    "\n",
    "# pandas formatting\n",
    "pd.set_option('display.max_rows', 20)\n",
    "pd.set_option('display.max_columns', 100)\n",
    "pd.set_option('max_colwidth', 200)\n",
    "\n",
    "# import tables\n",
    "documents = sql(\"SELECT * FROM csas2_document\", database='dmapps_BACKUP')\n",
    "documenttype = sql(\"SELECT * FROM csas2_documenttype\", database='dmapps_BACKUP')\n",
    "tracking = sql(\"SELECT * FROM csas2_documenttracking\", database='dmapps_BACKUP')\n",
    "meetings = sql(\"SELECT * FROM csas2_meeting\", database='dmapps_BACKUP')\n"
   ],
   "outputs": [],
   "execution_count": 1
  },
  {
   "metadata": {
    "ExecuteTime": {
     "end_time": "2024-12-30T16:24:27.020304Z",
     "start_time": "2024-12-30T16:24:26.974620Z"
    }
   },
   "cell_type": "code",
   "source": [
    "# unpublished docs with meetings <= Dec 2020\n",
    "\n",
    "# Jul #s (approx, backup of db from aug 7)\n",
    "unpub_2020_aug8 = sql(\n",
    "    query=\"\"\"\n",
    "        SELECT\n",
    "            csas2_document.id AS document_id,\n",
    "            csas2_document.status,\n",
    "            csas2_document.lead_office_id AS region,\n",
    "            csas2_document.created_at AS document_created,\n",
    "            csas2_meeting.id AS meeting_id,\n",
    "            csas2_process.id AS process_id,\n",
    "            csas2_meeting.start_date AS meeting_date,\n",
    "            csas2_documenttype.name AS doc_type\n",
    "        FROM csas2_document\n",
    "            LEFT JOIN csas2_documenttype ON csas2_document.document_type_id = csas2_documenttype.id\n",
    "            LEFT JOIN csas2_process ON csas2_document.process_id = csas2_process.id\n",
    "            LEFT JOIN csas2_meeting ON csas2_process.id = csas2_meeting.process_id\n",
    "        WHERE DATE(csas2_meeting.start_date) < '2021-01-01'\n",
    "            AND csas2_document.status NOT IN (12, 17, 99);\n",
    "    \"\"\", \n",
    "    database='dmapps_240807'\n",
    ")  \n",
    "unpub_2020_aug8 = unpub_2020_aug8[unpub_2020_aug8['doc_type'] != \"Document for translation only (e.g., meeting minutes, terms of reference)\"]\n",
    "\n",
    "# most recent db #s\n",
    "unpub_2020 = sql(\n",
    "    query=\"\"\"\n",
    "        SELECT\n",
    "            csas2_document.id AS document_id,\n",
    "            csas2_document.status,\n",
    "            csas2_document.lead_office_id AS region,\n",
    "            csas2_document.created_at AS document_created,\n",
    "            csas2_meeting.id AS meeting_id,\n",
    "            csas2_process.id AS process_id,\n",
    "            csas2_meeting.start_date AS meeting_date,\n",
    "            csas2_documenttype.name AS doc_type\n",
    "        FROM csas2_document\n",
    "            LEFT JOIN csas2_documenttype ON csas2_document.document_type_id = csas2_documenttype.id\n",
    "            LEFT JOIN csas2_process ON csas2_document.process_id = csas2_process.id\n",
    "            LEFT JOIN csas2_meeting ON csas2_process.id = csas2_meeting.process_id\n",
    "        WHERE DATE(csas2_meeting.start_date) < '2021-01-01'\n",
    "            AND csas2_document.status NOT IN (12, 17, 99);\n",
    "    \"\"\", \n",
    "    database='dmapps_BACKUP'\n",
    ")  \n",
    "unpub_2020 = unpub_2020[unpub_2020['doc_type'] != \"Document for translation only (e.g., meeting minutes, terms of reference)\"]\n"
   ],
   "id": "58f0cf0073d0e15",
   "outputs": [],
   "execution_count": 2
  },
  {
   "metadata": {
    "ExecuteTime": {
     "end_time": "2024-12-30T16:24:27.614336Z",
     "start_time": "2024-12-30T16:24:27.594776Z"
    }
   },
   "cell_type": "code",
   "source": [
    "col_order = ['Science Advisory Report', 'Science Response', 'Proceedings', 'Research Document']\n",
    "date_columns = ['Aug 8, 2024', 'Dec 30, 2024']\n",
    "\n",
    "df1 = unpub_2020_aug8.copy()\n",
    "df1['doc_type'] = pd.Categorical(unpub_2020_aug8['doc_type'], categories=col_order)\n",
    "df2 = unpub_2020.copy()\n",
    "df2['doc_type'] = pd.Categorical(unpub_2020['doc_type'], categories=col_order)\n",
    "\n",
    "print(\"Outstanding Publication by Type (Meetings December 2020 and Before)\")\n",
    "\n",
    "df = pd.concat(\n",
    "    [\n",
    "        pd.DataFrame(df1.drop_duplicates(subset='document_id', keep='first')['doc_type'].value_counts()[col_order]),\n",
    "        pd.DataFrame(df2.drop_duplicates(subset='document_id', keep='first')['doc_type'].value_counts()[col_order])\n",
    "    ],\n",
    "    axis=1\n",
    ")\n",
    "df.columns = date_columns\n",
    "display(df)\n",
    "\n",
    "print(\"excluding status = 0\")\n",
    "\n",
    "df = pd.concat(\n",
    "    [\n",
    "        pd.DataFrame(df1[df1.status != 0].drop_duplicates(subset='document_id', keep='first')['doc_type'].value_counts().reindex(col_order)),\n",
    "        pd.DataFrame(df2[df2.status != 0].drop_duplicates(subset='document_id', keep='first')['doc_type'].value_counts().reindex(col_order))\n",
    "    ],\n",
    "    axis=1\n",
    ")\n",
    "df.columns = date_columns\n",
    "display(df)\n"
   ],
   "id": "b0e37338a2bcb608",
   "outputs": [
    {
     "name": "stdout",
     "output_type": "stream",
     "text": [
      "Outstanding Publication by Type (Meetings December 2020 and Before)\n"
     ]
    },
    {
     "data": {
      "text/plain": [
       "                         Aug 8, 2024  Dec 30, 2024\n",
       "doc_type                                          \n",
       "Science Advisory Report           17            15\n",
       "Science Response                   0             0\n",
       "Proceedings                       28            13\n",
       "Research Document                 63            53"
      ],
      "text/html": [
       "<div>\n",
       "<style scoped>\n",
       "    .dataframe tbody tr th:only-of-type {\n",
       "        vertical-align: middle;\n",
       "    }\n",
       "\n",
       "    .dataframe tbody tr th {\n",
       "        vertical-align: top;\n",
       "    }\n",
       "\n",
       "    .dataframe thead th {\n",
       "        text-align: right;\n",
       "    }\n",
       "</style>\n",
       "<table border=\"1\" class=\"dataframe\">\n",
       "  <thead>\n",
       "    <tr style=\"text-align: right;\">\n",
       "      <th></th>\n",
       "      <th>Aug 8, 2024</th>\n",
       "      <th>Dec 30, 2024</th>\n",
       "    </tr>\n",
       "    <tr>\n",
       "      <th>doc_type</th>\n",
       "      <th></th>\n",
       "      <th></th>\n",
       "    </tr>\n",
       "  </thead>\n",
       "  <tbody>\n",
       "    <tr>\n",
       "      <th>Science Advisory Report</th>\n",
       "      <td>17</td>\n",
       "      <td>15</td>\n",
       "    </tr>\n",
       "    <tr>\n",
       "      <th>Science Response</th>\n",
       "      <td>0</td>\n",
       "      <td>0</td>\n",
       "    </tr>\n",
       "    <tr>\n",
       "      <th>Proceedings</th>\n",
       "      <td>28</td>\n",
       "      <td>13</td>\n",
       "    </tr>\n",
       "    <tr>\n",
       "      <th>Research Document</th>\n",
       "      <td>63</td>\n",
       "      <td>53</td>\n",
       "    </tr>\n",
       "  </tbody>\n",
       "</table>\n",
       "</div>"
      ]
     },
     "metadata": {},
     "output_type": "display_data"
    },
    {
     "name": "stdout",
     "output_type": "stream",
     "text": [
      "excluding status = 0\n"
     ]
    },
    {
     "data": {
      "text/plain": [
       "                         Aug 8, 2024  Dec 30, 2024\n",
       "doc_type                                          \n",
       "Science Advisory Report           17            15\n",
       "Science Response                   0             0\n",
       "Proceedings                       28            13\n",
       "Research Document                 63            53"
      ],
      "text/html": [
       "<div>\n",
       "<style scoped>\n",
       "    .dataframe tbody tr th:only-of-type {\n",
       "        vertical-align: middle;\n",
       "    }\n",
       "\n",
       "    .dataframe tbody tr th {\n",
       "        vertical-align: top;\n",
       "    }\n",
       "\n",
       "    .dataframe thead th {\n",
       "        text-align: right;\n",
       "    }\n",
       "</style>\n",
       "<table border=\"1\" class=\"dataframe\">\n",
       "  <thead>\n",
       "    <tr style=\"text-align: right;\">\n",
       "      <th></th>\n",
       "      <th>Aug 8, 2024</th>\n",
       "      <th>Dec 30, 2024</th>\n",
       "    </tr>\n",
       "    <tr>\n",
       "      <th>doc_type</th>\n",
       "      <th></th>\n",
       "      <th></th>\n",
       "    </tr>\n",
       "  </thead>\n",
       "  <tbody>\n",
       "    <tr>\n",
       "      <th>Science Advisory Report</th>\n",
       "      <td>17</td>\n",
       "      <td>15</td>\n",
       "    </tr>\n",
       "    <tr>\n",
       "      <th>Science Response</th>\n",
       "      <td>0</td>\n",
       "      <td>0</td>\n",
       "    </tr>\n",
       "    <tr>\n",
       "      <th>Proceedings</th>\n",
       "      <td>28</td>\n",
       "      <td>13</td>\n",
       "    </tr>\n",
       "    <tr>\n",
       "      <th>Research Document</th>\n",
       "      <td>63</td>\n",
       "      <td>53</td>\n",
       "    </tr>\n",
       "  </tbody>\n",
       "</table>\n",
       "</div>"
      ]
     },
     "metadata": {},
     "output_type": "display_data"
    }
   ],
   "execution_count": 3
  },
  {
   "metadata": {},
   "cell_type": "markdown",
   "source": "# what is different aug to present?",
   "id": "4cfb8a27557949b6"
  },
  {
   "metadata": {
    "ExecuteTime": {
     "end_time": "2024-12-30T16:24:27.647567Z",
     "start_time": "2024-12-30T16:24:27.640829Z"
    }
   },
   "cell_type": "code",
   "source": [
    "different = set(unpub_2020_aug8.document_id) - set(unpub_2020.document_id)\n",
    "different\n",
    "pd.DataFrame(documents[documents.id.isin(different)]['status'].value_counts())\n",
    "\n",
    "# all look good, either 99 or 12"
   ],
   "id": "58b296f3b5bd70a9",
   "outputs": [
    {
     "data": {
      "text/plain": [
       "        count\n",
       "status       \n",
       "12         19\n",
       "99          8"
      ],
      "text/html": [
       "<div>\n",
       "<style scoped>\n",
       "    .dataframe tbody tr th:only-of-type {\n",
       "        vertical-align: middle;\n",
       "    }\n",
       "\n",
       "    .dataframe tbody tr th {\n",
       "        vertical-align: top;\n",
       "    }\n",
       "\n",
       "    .dataframe thead th {\n",
       "        text-align: right;\n",
       "    }\n",
       "</style>\n",
       "<table border=\"1\" class=\"dataframe\">\n",
       "  <thead>\n",
       "    <tr style=\"text-align: right;\">\n",
       "      <th></th>\n",
       "      <th>count</th>\n",
       "    </tr>\n",
       "    <tr>\n",
       "      <th>status</th>\n",
       "      <th></th>\n",
       "    </tr>\n",
       "  </thead>\n",
       "  <tbody>\n",
       "    <tr>\n",
       "      <th>12</th>\n",
       "      <td>19</td>\n",
       "    </tr>\n",
       "    <tr>\n",
       "      <th>99</th>\n",
       "      <td>8</td>\n",
       "    </tr>\n",
       "  </tbody>\n",
       "</table>\n",
       "</div>"
      ]
     },
     "execution_count": 4,
     "metadata": {},
     "output_type": "execute_result"
    }
   ],
   "execution_count": 4
  },
  {
   "metadata": {},
   "cell_type": "markdown",
   "source": "# how many incomplete but with a pub_number?",
   "id": "eef8ae7fa74ca082"
  },
  {
   "metadata": {
    "ExecuteTime": {
     "end_time": "2024-12-30T16:24:27.854684Z",
     "start_time": "2024-12-30T16:24:27.843747Z"
    }
   },
   "cell_type": "code",
   "source": [
    "status = {\n",
    "   0: \"awaiting_changes\",\n",
    "   1: \"confirmed\",\n",
    "   2: \"submission_date\",\n",
    "   3: \"date_chair_sent\",\n",
    "   4: \"date_chair_appr\",\n",
    "   5: \"date_coordinator_sent\",\n",
    "   6: \"date_coordinator_appr\",\n",
    "   13: \"date_section_head_sent\",\n",
    "   14: \"date_section_head_appr\",\n",
    "   15: \"date_division_manager_sent\",\n",
    "   16: \"date_division_manager_appr\",\n",
    "   7: \"date_director_sent\",\n",
    "   8: \"date_director_appr\",\n",
    "   9: \"date_doc_submitted\",\n",
    "   10: \"date_proof_author_sent\",\n",
    "   11: \"date_proof_author_approved\",\n",
    "   12: \"actual_posting_date\",\n",
    "   17: \"updated_posting_date\",\n",
    "   99: \"withdrawn\",\n",
    "}\n",
    "\n",
    "documents['status_display'] = documents['status'].replace(status)\n",
    "\n",
    "document_type_id = {\n",
    "    2: 'Science Advisory Report',\n",
    "    3: 'Research Document',\n",
    "    4: 'Proceedings',\n",
    "    5: 'Science Response',\n",
    "    6: 'Working Paper',\n",
    "    8: \"Document for translation only (e.g., meeting minutes, terms of reference)\",\n",
    "}\n",
    "\n",
    "documents['document_type_display'] = documents['document_type_id'].replace(document_type_id)\n",
    "\n",
    "documents[~documents.status.isin([12, 17, 99]) & documents.pub_number][['id', 'pub_number', 'status', 'status_display', 'document_type_id', 'document_type_display']]"
   ],
   "id": "d7a09465b0a4d79e",
   "outputs": [
    {
     "data": {
      "text/plain": [
       "        id pub_number  status              status_display  document_type_id  \\\n",
       "50      62   2024/056       9          date_doc_submitted                 3   \n",
       "123    140   2024/072       9          date_doc_submitted                 3   \n",
       "143    160   2024/071       6       date_coordinator_appr                 3   \n",
       "204    223   2025/001       9          date_doc_submitted                 3   \n",
       "565    668   2023/084      11  date_proof_author_approved                 3   \n",
       "811    924   2022/006      11  date_proof_author_approved                 4   \n",
       "813    926   2023/090       9          date_doc_submitted                 3   \n",
       "919   1040   2024/028      10      date_proof_author_sent                 3   \n",
       "928   1050   2024/066       5       date_coordinator_sent                 3   \n",
       "1005  1131   2025/002       9          date_doc_submitted                 3   \n",
       "1028  1164   2025/003       9          date_doc_submitted                 3   \n",
       "1161  1300   2024/063       9          date_doc_submitted                 3   \n",
       "1163  1302   2025/003       9          date_doc_submitted                 5   \n",
       "1206  1348   2024/041      11  date_proof_author_approved                 5   \n",
       "1215  1357   2025/001       9          date_doc_submitted                 2   \n",
       "1217  1359   2025/001       9          date_doc_submitted                 5   \n",
       "1230  1373   2025/002       9          date_doc_submitted                 5   \n",
       "\n",
       "        document_type_display  \n",
       "50          Research Document  \n",
       "123         Research Document  \n",
       "143         Research Document  \n",
       "204         Research Document  \n",
       "565         Research Document  \n",
       "811               Proceedings  \n",
       "813         Research Document  \n",
       "919         Research Document  \n",
       "928         Research Document  \n",
       "1005        Research Document  \n",
       "1028        Research Document  \n",
       "1161        Research Document  \n",
       "1163         Science Response  \n",
       "1206         Science Response  \n",
       "1215  Science Advisory Report  \n",
       "1217         Science Response  \n",
       "1230         Science Response  "
      ],
      "text/html": [
       "<div>\n",
       "<style scoped>\n",
       "    .dataframe tbody tr th:only-of-type {\n",
       "        vertical-align: middle;\n",
       "    }\n",
       "\n",
       "    .dataframe tbody tr th {\n",
       "        vertical-align: top;\n",
       "    }\n",
       "\n",
       "    .dataframe thead th {\n",
       "        text-align: right;\n",
       "    }\n",
       "</style>\n",
       "<table border=\"1\" class=\"dataframe\">\n",
       "  <thead>\n",
       "    <tr style=\"text-align: right;\">\n",
       "      <th></th>\n",
       "      <th>id</th>\n",
       "      <th>pub_number</th>\n",
       "      <th>status</th>\n",
       "      <th>status_display</th>\n",
       "      <th>document_type_id</th>\n",
       "      <th>document_type_display</th>\n",
       "    </tr>\n",
       "  </thead>\n",
       "  <tbody>\n",
       "    <tr>\n",
       "      <th>50</th>\n",
       "      <td>62</td>\n",
       "      <td>2024/056</td>\n",
       "      <td>9</td>\n",
       "      <td>date_doc_submitted</td>\n",
       "      <td>3</td>\n",
       "      <td>Research Document</td>\n",
       "    </tr>\n",
       "    <tr>\n",
       "      <th>123</th>\n",
       "      <td>140</td>\n",
       "      <td>2024/072</td>\n",
       "      <td>9</td>\n",
       "      <td>date_doc_submitted</td>\n",
       "      <td>3</td>\n",
       "      <td>Research Document</td>\n",
       "    </tr>\n",
       "    <tr>\n",
       "      <th>143</th>\n",
       "      <td>160</td>\n",
       "      <td>2024/071</td>\n",
       "      <td>6</td>\n",
       "      <td>date_coordinator_appr</td>\n",
       "      <td>3</td>\n",
       "      <td>Research Document</td>\n",
       "    </tr>\n",
       "    <tr>\n",
       "      <th>204</th>\n",
       "      <td>223</td>\n",
       "      <td>2025/001</td>\n",
       "      <td>9</td>\n",
       "      <td>date_doc_submitted</td>\n",
       "      <td>3</td>\n",
       "      <td>Research Document</td>\n",
       "    </tr>\n",
       "    <tr>\n",
       "      <th>565</th>\n",
       "      <td>668</td>\n",
       "      <td>2023/084</td>\n",
       "      <td>11</td>\n",
       "      <td>date_proof_author_approved</td>\n",
       "      <td>3</td>\n",
       "      <td>Research Document</td>\n",
       "    </tr>\n",
       "    <tr>\n",
       "      <th>811</th>\n",
       "      <td>924</td>\n",
       "      <td>2022/006</td>\n",
       "      <td>11</td>\n",
       "      <td>date_proof_author_approved</td>\n",
       "      <td>4</td>\n",
       "      <td>Proceedings</td>\n",
       "    </tr>\n",
       "    <tr>\n",
       "      <th>813</th>\n",
       "      <td>926</td>\n",
       "      <td>2023/090</td>\n",
       "      <td>9</td>\n",
       "      <td>date_doc_submitted</td>\n",
       "      <td>3</td>\n",
       "      <td>Research Document</td>\n",
       "    </tr>\n",
       "    <tr>\n",
       "      <th>919</th>\n",
       "      <td>1040</td>\n",
       "      <td>2024/028</td>\n",
       "      <td>10</td>\n",
       "      <td>date_proof_author_sent</td>\n",
       "      <td>3</td>\n",
       "      <td>Research Document</td>\n",
       "    </tr>\n",
       "    <tr>\n",
       "      <th>928</th>\n",
       "      <td>1050</td>\n",
       "      <td>2024/066</td>\n",
       "      <td>5</td>\n",
       "      <td>date_coordinator_sent</td>\n",
       "      <td>3</td>\n",
       "      <td>Research Document</td>\n",
       "    </tr>\n",
       "    <tr>\n",
       "      <th>1005</th>\n",
       "      <td>1131</td>\n",
       "      <td>2025/002</td>\n",
       "      <td>9</td>\n",
       "      <td>date_doc_submitted</td>\n",
       "      <td>3</td>\n",
       "      <td>Research Document</td>\n",
       "    </tr>\n",
       "    <tr>\n",
       "      <th>1028</th>\n",
       "      <td>1164</td>\n",
       "      <td>2025/003</td>\n",
       "      <td>9</td>\n",
       "      <td>date_doc_submitted</td>\n",
       "      <td>3</td>\n",
       "      <td>Research Document</td>\n",
       "    </tr>\n",
       "    <tr>\n",
       "      <th>1161</th>\n",
       "      <td>1300</td>\n",
       "      <td>2024/063</td>\n",
       "      <td>9</td>\n",
       "      <td>date_doc_submitted</td>\n",
       "      <td>3</td>\n",
       "      <td>Research Document</td>\n",
       "    </tr>\n",
       "    <tr>\n",
       "      <th>1163</th>\n",
       "      <td>1302</td>\n",
       "      <td>2025/003</td>\n",
       "      <td>9</td>\n",
       "      <td>date_doc_submitted</td>\n",
       "      <td>5</td>\n",
       "      <td>Science Response</td>\n",
       "    </tr>\n",
       "    <tr>\n",
       "      <th>1206</th>\n",
       "      <td>1348</td>\n",
       "      <td>2024/041</td>\n",
       "      <td>11</td>\n",
       "      <td>date_proof_author_approved</td>\n",
       "      <td>5</td>\n",
       "      <td>Science Response</td>\n",
       "    </tr>\n",
       "    <tr>\n",
       "      <th>1215</th>\n",
       "      <td>1357</td>\n",
       "      <td>2025/001</td>\n",
       "      <td>9</td>\n",
       "      <td>date_doc_submitted</td>\n",
       "      <td>2</td>\n",
       "      <td>Science Advisory Report</td>\n",
       "    </tr>\n",
       "    <tr>\n",
       "      <th>1217</th>\n",
       "      <td>1359</td>\n",
       "      <td>2025/001</td>\n",
       "      <td>9</td>\n",
       "      <td>date_doc_submitted</td>\n",
       "      <td>5</td>\n",
       "      <td>Science Response</td>\n",
       "    </tr>\n",
       "    <tr>\n",
       "      <th>1230</th>\n",
       "      <td>1373</td>\n",
       "      <td>2025/002</td>\n",
       "      <td>9</td>\n",
       "      <td>date_doc_submitted</td>\n",
       "      <td>5</td>\n",
       "      <td>Science Response</td>\n",
       "    </tr>\n",
       "  </tbody>\n",
       "</table>\n",
       "</div>"
      ]
     },
     "execution_count": 5,
     "metadata": {},
     "output_type": "execute_result"
    }
   ],
   "execution_count": 5
  },
  {
   "metadata": {},
   "cell_type": "markdown",
   "source": "# what about regions?",
   "id": "a2a196b7408877c0"
  },
  {
   "metadata": {
    "ExecuteTime": {
     "end_time": "2024-12-30T16:24:28.006703Z",
     "start_time": "2024-12-30T16:24:27.996967Z"
    }
   },
   "cell_type": "code",
   "source": [
    "df1 = unpub_2020_aug8.copy()\n",
    "df2 = unpub_2020.copy()\n",
    "\n",
    "regions = {\n",
    "    1: 'Gulf',\n",
    "    2: 'Maritimes',\n",
    "    3: 'Quebec',\n",
    "    6: 'Newfoundland & Labrador',\n",
    "    4: 'National',\n",
    "    7: 'Ontario and Prairie',\n",
    "    5: 'Pacific',\n",
    "    8: 'Arctic',\n",
    "}\n",
    "df1['region'] = df1['region'].replace(regions)\n",
    "df1['region'] = pd.Categorical(df1['region'], categories=list(regions.values()))\n",
    "df2['region'] = df2['region'].replace(regions)\n",
    "df2['region'] = pd.Categorical(df2['region'], categories=list(regions.values()))\n",
    "\n",
    "df1 = pd.DataFrame(df1['region'].value_counts().reindex([\n",
    "    'Arctic',\n",
    "    'Pacific',\n",
    "    'Ontario and Prairie',\n",
    "    'National',\n",
    "    'Quebec',\n",
    "    'Gulf',\n",
    "    'Maritimes',\n",
    "    'Newfoundland & Labrador',\n",
    "]))\n",
    "\n",
    "df2 = pd.DataFrame(df2['region'].value_counts().reindex([\n",
    "    'Arctic',\n",
    "    'Pacific',\n",
    "    'Ontario and Prairie',\n",
    "    'National',\n",
    "    'Quebec',\n",
    "    'Gulf',\n",
    "    'Maritimes',\n",
    "    'Newfoundland & Labrador',\n",
    "]))\n",
    "\n",
    "df = pd.concat([pd.DataFrame(df1), pd.DataFrame(df2)], axis=1)\n",
    "df.columns = date_columns\n",
    "display(df)"
   ],
   "id": "48414dca0b3197a",
   "outputs": [
    {
     "data": {
      "text/plain": [
       "                         Aug 8, 2024  Dec 30, 2024\n",
       "region                                            \n",
       "Arctic                             0             0\n",
       "Pacific                            4             4\n",
       "Ontario and Prairie               35            27\n",
       "National                          38            38\n",
       "Quebec                             7             7\n",
       "Gulf                               1             1\n",
       "Maritimes                         18             0\n",
       "Newfoundland & Labrador           10             5"
      ],
      "text/html": [
       "<div>\n",
       "<style scoped>\n",
       "    .dataframe tbody tr th:only-of-type {\n",
       "        vertical-align: middle;\n",
       "    }\n",
       "\n",
       "    .dataframe tbody tr th {\n",
       "        vertical-align: top;\n",
       "    }\n",
       "\n",
       "    .dataframe thead th {\n",
       "        text-align: right;\n",
       "    }\n",
       "</style>\n",
       "<table border=\"1\" class=\"dataframe\">\n",
       "  <thead>\n",
       "    <tr style=\"text-align: right;\">\n",
       "      <th></th>\n",
       "      <th>Aug 8, 2024</th>\n",
       "      <th>Dec 30, 2024</th>\n",
       "    </tr>\n",
       "    <tr>\n",
       "      <th>region</th>\n",
       "      <th></th>\n",
       "      <th></th>\n",
       "    </tr>\n",
       "  </thead>\n",
       "  <tbody>\n",
       "    <tr>\n",
       "      <th>Arctic</th>\n",
       "      <td>0</td>\n",
       "      <td>0</td>\n",
       "    </tr>\n",
       "    <tr>\n",
       "      <th>Pacific</th>\n",
       "      <td>4</td>\n",
       "      <td>4</td>\n",
       "    </tr>\n",
       "    <tr>\n",
       "      <th>Ontario and Prairie</th>\n",
       "      <td>35</td>\n",
       "      <td>27</td>\n",
       "    </tr>\n",
       "    <tr>\n",
       "      <th>National</th>\n",
       "      <td>38</td>\n",
       "      <td>38</td>\n",
       "    </tr>\n",
       "    <tr>\n",
       "      <th>Quebec</th>\n",
       "      <td>7</td>\n",
       "      <td>7</td>\n",
       "    </tr>\n",
       "    <tr>\n",
       "      <th>Gulf</th>\n",
       "      <td>1</td>\n",
       "      <td>1</td>\n",
       "    </tr>\n",
       "    <tr>\n",
       "      <th>Maritimes</th>\n",
       "      <td>18</td>\n",
       "      <td>0</td>\n",
       "    </tr>\n",
       "    <tr>\n",
       "      <th>Newfoundland &amp; Labrador</th>\n",
       "      <td>10</td>\n",
       "      <td>5</td>\n",
       "    </tr>\n",
       "  </tbody>\n",
       "</table>\n",
       "</div>"
      ]
     },
     "metadata": {},
     "output_type": "display_data"
    }
   ],
   "execution_count": 6
  },
  {
   "metadata": {
    "ExecuteTime": {
     "end_time": "2024-12-30T16:24:28.154544Z",
     "start_time": "2024-12-30T16:24:28.145064Z"
    }
   },
   "cell_type": "code",
   "source": [
    "# zero Arctic documents? what about after 2020?\n",
    "documents[documents.lead_office_id == 8]\n",
    "\n",
    "# none. ever."
   ],
   "id": "75141f21ebc1c648",
   "outputs": [
    {
     "data": {
      "text/plain": [
       "Empty DataFrame\n",
       "Columns: [id, created_at, updated_at, title_en, title_fr, title_iku, pub_number, pages_en, status, old_id, created_by_id, process_id, updated_by_id, url_en, url_fr, dev_link_en, dev_link_fr, ekme_gcdocs_en, ekme_gcdocs_fr, cat_number_en, cat_number_fr, document_type_id, translation_status, pub_number_request_date, due_date, is_confirmed, lead_office_id, pages_fr, pdf_size_kb_en, pdf_size_kb_fr, cat_number_iku, library_link_en, library_link_fr, library_link_iku, pdf_size_kb_iku, isbn_en, isbn_fr, isbn_iku, pages_iku, ekme_gcdocs_iku, pub_number_assigned_date, posting_notification_sent_date, has_data_links, has_third_language, third_language, urgency_notes, urgent, media_attention, sharepoint_archive_en, sharepoint_archive_fr, status_display, document_type_display]\n",
       "Index: []"
      ],
      "text/html": [
       "<div>\n",
       "<style scoped>\n",
       "    .dataframe tbody tr th:only-of-type {\n",
       "        vertical-align: middle;\n",
       "    }\n",
       "\n",
       "    .dataframe tbody tr th {\n",
       "        vertical-align: top;\n",
       "    }\n",
       "\n",
       "    .dataframe thead th {\n",
       "        text-align: right;\n",
       "    }\n",
       "</style>\n",
       "<table border=\"1\" class=\"dataframe\">\n",
       "  <thead>\n",
       "    <tr style=\"text-align: right;\">\n",
       "      <th></th>\n",
       "      <th>id</th>\n",
       "      <th>created_at</th>\n",
       "      <th>updated_at</th>\n",
       "      <th>title_en</th>\n",
       "      <th>title_fr</th>\n",
       "      <th>title_iku</th>\n",
       "      <th>pub_number</th>\n",
       "      <th>pages_en</th>\n",
       "      <th>status</th>\n",
       "      <th>old_id</th>\n",
       "      <th>created_by_id</th>\n",
       "      <th>process_id</th>\n",
       "      <th>updated_by_id</th>\n",
       "      <th>url_en</th>\n",
       "      <th>url_fr</th>\n",
       "      <th>dev_link_en</th>\n",
       "      <th>dev_link_fr</th>\n",
       "      <th>ekme_gcdocs_en</th>\n",
       "      <th>ekme_gcdocs_fr</th>\n",
       "      <th>cat_number_en</th>\n",
       "      <th>cat_number_fr</th>\n",
       "      <th>document_type_id</th>\n",
       "      <th>translation_status</th>\n",
       "      <th>pub_number_request_date</th>\n",
       "      <th>due_date</th>\n",
       "      <th>is_confirmed</th>\n",
       "      <th>lead_office_id</th>\n",
       "      <th>pages_fr</th>\n",
       "      <th>pdf_size_kb_en</th>\n",
       "      <th>pdf_size_kb_fr</th>\n",
       "      <th>cat_number_iku</th>\n",
       "      <th>library_link_en</th>\n",
       "      <th>library_link_fr</th>\n",
       "      <th>library_link_iku</th>\n",
       "      <th>pdf_size_kb_iku</th>\n",
       "      <th>isbn_en</th>\n",
       "      <th>isbn_fr</th>\n",
       "      <th>isbn_iku</th>\n",
       "      <th>pages_iku</th>\n",
       "      <th>ekme_gcdocs_iku</th>\n",
       "      <th>pub_number_assigned_date</th>\n",
       "      <th>posting_notification_sent_date</th>\n",
       "      <th>has_data_links</th>\n",
       "      <th>has_third_language</th>\n",
       "      <th>third_language</th>\n",
       "      <th>urgency_notes</th>\n",
       "      <th>urgent</th>\n",
       "      <th>media_attention</th>\n",
       "      <th>sharepoint_archive_en</th>\n",
       "      <th>sharepoint_archive_fr</th>\n",
       "      <th>status_display</th>\n",
       "      <th>document_type_display</th>\n",
       "    </tr>\n",
       "  </thead>\n",
       "  <tbody>\n",
       "  </tbody>\n",
       "</table>\n",
       "</div>"
      ]
     },
     "execution_count": 7,
     "metadata": {},
     "output_type": "execute_result"
    }
   ],
   "execution_count": 7
  },
  {
   "metadata": {},
   "cell_type": "markdown",
   "source": "# how to group into SUBJECT MATTER categories",
   "id": "6f4ea17926be2196"
  },
  {
   "metadata": {
    "ExecuteTime": {
     "end_time": "2024-12-30T16:24:28.367083Z",
     "start_time": "2024-12-30T16:24:28.330793Z"
    }
   },
   "cell_type": "code",
   "source": [
    "branch = sql(\"SELECT * FROM shared_models_branch\")\n",
    "len(set(branch.name))"
   ],
   "id": "f7fc866cf009e735",
   "outputs": [
    {
     "data": {
      "text/plain": [
       "34"
      ]
     },
     "execution_count": 8,
     "metadata": {},
     "output_type": "execute_result"
    }
   ],
   "execution_count": 8
  },
  {
   "metadata": {
    "ExecuteTime": {
     "end_time": "2024-12-30T16:24:28.539369Z",
     "start_time": "2024-12-30T16:24:28.502976Z"
    }
   },
   "cell_type": "code",
   "source": [
    "sector = sql(\"SELECT * FROM shared_models_sector\")\n",
    "len(set(sector.name))"
   ],
   "id": "15c0f8255a19a1ee",
   "outputs": [
    {
     "data": {
      "text/plain": [
       "13"
      ]
     },
     "execution_count": 9,
     "metadata": {},
     "output_type": "execute_result"
    }
   ],
   "execution_count": 9
  },
  {
   "metadata": {
    "ExecuteTime": {
     "end_time": "2024-12-30T16:24:28.659523Z",
     "start_time": "2024-12-30T16:24:28.644528Z"
    }
   },
   "cell_type": "code",
   "source": [
    "print('SECTOR')\n",
    "set(sector.name)"
   ],
   "id": "90f0cb542fdc226a",
   "outputs": [
    {
     "name": "stdout",
     "output_type": "stream",
     "text": [
      "SECTOR\n"
     ]
    },
    {
     "data": {
      "text/plain": [
       "{'Aquatic Ecosystems',\n",
       " 'Atlantic Fisheries Fund',\n",
       " 'Chief Financial Officer',\n",
       " 'Ecosystems & Oceans Science',\n",
       " 'Executive Direction',\n",
       " 'Fisheries & Harbour Management',\n",
       " 'Governance Secretariat',\n",
       " 'Human Resource and Corporate Services',\n",
       " 'Human Resources and Corporate Services',\n",
       " 'Innovation and Business Transformation',\n",
       " 'Internal Audit Directorate',\n",
       " 'Legal Services Unit',\n",
       " 'Strategic Policy'}"
      ]
     },
     "execution_count": 10,
     "metadata": {},
     "output_type": "execute_result"
    }
   ],
   "execution_count": 10
  },
  {
   "metadata": {
    "ExecuteTime": {
     "end_time": "2024-12-30T16:24:28.873525Z",
     "start_time": "2024-12-30T16:24:28.847148Z"
    }
   },
   "cell_type": "code",
   "source": [
    "division = sql(\"SELECT * FROM shared_models_division\")\n",
    "len(set(division.name))"
   ],
   "id": "b1336c360eea7453",
   "outputs": [
    {
     "data": {
      "text/plain": [
       "91"
      ]
     },
     "execution_count": 11,
     "metadata": {},
     "output_type": "execute_result"
    }
   ],
   "execution_count": 11
  },
  {
   "metadata": {
    "ExecuteTime": {
     "end_time": "2024-12-30T16:24:29.010159Z",
     "start_time": "2024-12-30T16:24:28.981475Z"
    }
   },
   "cell_type": "code",
   "source": [
    "section = sql(\"SELECT * FROM shared_models_section\")\n",
    "len(set(section.name))"
   ],
   "id": "8460f6484641ee3b",
   "outputs": [
    {
     "data": {
      "text/plain": [
       "180"
      ]
     },
     "execution_count": 12,
     "metadata": {},
     "output_type": "execute_result"
    }
   ],
   "execution_count": 12
  },
  {
   "metadata": {
    "ExecuteTime": {
     "end_time": "2024-12-30T16:24:29.109620Z",
     "start_time": "2024-12-30T16:24:29.076833Z"
    }
   },
   "cell_type": "code",
   "source": [
    "region = sql(\"SELECT * FROM shared_models_region\")\n",
    "len(set(region.name))"
   ],
   "id": "7cf5201ec6086317",
   "outputs": [
    {
     "data": {
      "text/plain": [
       "8"
      ]
     },
     "execution_count": 13,
     "metadata": {},
     "output_type": "execute_result"
    }
   ],
   "execution_count": 13
  },
  {
   "metadata": {
    "ExecuteTime": {
     "end_time": "2024-12-30T16:24:29.244183Z",
     "start_time": "2024-12-30T16:24:29.235328Z"
    }
   },
   "cell_type": "code",
   "source": [
    "print('REGION')\n",
    "set(region.name)"
   ],
   "id": "3e5606287d32e392",
   "outputs": [
    {
     "name": "stdout",
     "output_type": "stream",
     "text": [
      "REGION\n"
     ]
    },
    {
     "data": {
      "text/plain": [
       "{'Arctic',\n",
       " 'Gulf',\n",
       " 'Maritimes',\n",
       " 'National',\n",
       " 'Newfoundland & Labrador',\n",
       " 'Ontario and Prairie',\n",
       " 'Pacific',\n",
       " 'Quebec'}"
      ]
     },
     "execution_count": 14,
     "metadata": {},
     "output_type": "execute_result"
    }
   ],
   "execution_count": 14
  },
  {
   "metadata": {
    "ExecuteTime": {
     "end_time": "2024-12-30T16:24:29.287668Z",
     "start_time": "2024-12-30T16:24:29.261323Z"
    }
   },
   "cell_type": "code",
   "source": [
    "subjectmatter = sql(\"SELECT * FROM shared_models_subjectmatter\")\n",
    "len(set(subjectmatter.name))"
   ],
   "id": "27e18019638d0711",
   "outputs": [
    {
     "data": {
      "text/plain": [
       "8"
      ]
     },
     "execution_count": 15,
     "metadata": {},
     "output_type": "execute_result"
    }
   ],
   "execution_count": 15
  },
  {
   "metadata": {
    "ExecuteTime": {
     "end_time": "2024-12-30T16:24:29.374986Z",
     "start_time": "2024-12-30T16:24:29.369375Z"
    }
   },
   "cell_type": "code",
   "source": [
    "print(\"SUBJECT MATTER\")\n",
    "set(subjectmatter.name)"
   ],
   "id": "81c25859adf06c16",
   "outputs": [
    {
     "name": "stdout",
     "output_type": "stream",
     "text": [
      "SUBJECT MATTER\n"
     ]
    },
    {
     "data": {
      "text/plain": [
       "{'Asian Carp',\n",
       " 'Groundfish',\n",
       " 'Herring',\n",
       " 'Impact Assessment',\n",
       " 'Major Projects',\n",
       " 'Marine Mammal',\n",
       " 'Phytoplankton',\n",
       " 'eDNA'}"
      ]
     },
     "execution_count": 16,
     "metadata": {},
     "output_type": "execute_result"
    }
   ],
   "execution_count": 16
  },
  {
   "metadata": {
    "ExecuteTime": {
     "end_time": "2024-12-30T16:24:29.462944Z",
     "start_time": "2024-12-30T16:24:29.458514Z"
    }
   },
   "cell_type": "code",
   "source": [
    "should_be = ['Fisheries', 'Aquatic Ecosystems', 'Marine Mammal', 'Aquaculture']\n",
    "closest_is = sorted(list(set(sector.name)))\n",
    "closest_is  # not very close..."
   ],
   "id": "b9f5e92a945ab5cf",
   "outputs": [
    {
     "data": {
      "text/plain": [
       "['Aquatic Ecosystems',\n",
       " 'Atlantic Fisheries Fund',\n",
       " 'Chief Financial Officer',\n",
       " 'Ecosystems & Oceans Science',\n",
       " 'Executive Direction',\n",
       " 'Fisheries & Harbour Management',\n",
       " 'Governance Secretariat',\n",
       " 'Human Resource and Corporate Services',\n",
       " 'Human Resources and Corporate Services',\n",
       " 'Innovation and Business Transformation',\n",
       " 'Internal Audit Directorate',\n",
       " 'Legal Services Unit',\n",
       " 'Strategic Policy']"
      ]
     },
     "execution_count": 17,
     "metadata": {},
     "output_type": "execute_result"
    }
   ],
   "execution_count": 17
  },
  {
   "metadata": {},
   "cell_type": "markdown",
   "source": "### subjectmatter is explicitly only in CSASRequest.tags",
   "id": "4c783fee0560f1e0"
  },
  {
   "metadata": {
    "ExecuteTime": {
     "end_time": "2024-12-30T16:24:29.497713Z",
     "start_time": "2024-12-30T16:24:29.471019Z"
    }
   },
   "cell_type": "code",
   "source": "request_tags = sql(\"SELECT * FROM csas2_csasrequest_tags\")",
   "id": "891f8697776c5346",
   "outputs": [],
   "execution_count": 18
  },
  {
   "metadata": {
    "ExecuteTime": {
     "end_time": "2024-12-30T16:24:29.547988Z",
     "start_time": "2024-12-30T16:24:29.543140Z"
    }
   },
   "cell_type": "code",
   "source": [
    "# most requests don't have tags...\n",
    "len(set(request_tags.csasrequest_id))"
   ],
   "id": "39027857f287630b",
   "outputs": [
    {
     "data": {
      "text/plain": [
       "176"
      ]
     },
     "execution_count": 19,
     "metadata": {},
     "output_type": "execute_result"
    }
   ],
   "execution_count": 19
  },
  {
   "metadata": {
    "ExecuteTime": {
     "end_time": "2024-12-30T16:24:29.652846Z",
     "start_time": "2024-12-30T16:24:29.593830Z"
    }
   },
   "cell_type": "code",
   "source": [
    "document_tags1 = sql(\"\"\"\n",
    "    SELECT\n",
    "        csas2_document.id AS document_id,\n",
    "        csas2_process.id AS process_id,\n",
    "        csas2_csasrequest.id AS request_id,\n",
    "        shared_models_subjectmatter.name\n",
    "    FROM csas2_document\n",
    "        LEFT JOIN csas2_process ON csas2_document.process_id = csas2_process.id\n",
    "        LEFT JOIN csas2_process_csas_requests ON csas2_process.id = csas2_process_csas_requests.process_id\n",
    "        LEFT JOIN csas2_csasrequest ON csas2_process_csas_requests.csasrequest_id = csas2_csasrequest.id\n",
    "        LEFT JOIN csas2_csasrequest_tags ON csas2_csasrequest.id = csas2_csasrequest_tags.csasrequest_id\n",
    "        LEFT JOIN shared_models_subjectmatter ON csas2_csasrequest_tags.subjectmatter_id = shared_models_subjectmatter.id;\n",
    "\"\"\", database=\"dmapps_240807\") \n",
    "\n",
    "df1 = document_tags1['name'].value_counts(dropna=False)\n",
    "\n",
    "document_tags2 = sql(\"\"\"\n",
    "    SELECT\n",
    "        csas2_document.id AS document_id,\n",
    "        csas2_process.id AS process_id,\n",
    "        csas2_csasrequest.id AS request_id,\n",
    "        shared_models_subjectmatter.name\n",
    "    FROM csas2_document\n",
    "        LEFT JOIN csas2_process ON csas2_document.process_id = csas2_process.id\n",
    "        LEFT JOIN csas2_process_csas_requests ON csas2_process.id = csas2_process_csas_requests.process_id\n",
    "        LEFT JOIN csas2_csasrequest ON csas2_process_csas_requests.csasrequest_id = csas2_csasrequest.id\n",
    "        LEFT JOIN csas2_csasrequest_tags ON csas2_csasrequest.id = csas2_csasrequest_tags.csasrequest_id\n",
    "        LEFT JOIN shared_models_subjectmatter ON csas2_csasrequest_tags.subjectmatter_id = shared_models_subjectmatter.id;\n",
    "\"\"\") \n",
    "\n",
    "df2 = document_tags2['name'].value_counts(dropna=False)\n",
    "\n",
    "df = pd.concat([pd.DataFrame(df1), pd.DataFrame(df2)], axis=1)\n",
    "df.columns = date_columns\n",
    "display(df)"
   ],
   "id": "971a378361e61b7",
   "outputs": [
    {
     "data": {
      "text/plain": [
       "                   Aug 8, 2024  Dec 30, 2024\n",
       "name                                        \n",
       "None                      1152          1200\n",
       "Marine Mammal               39            39\n",
       "Groundfish                  16            28\n",
       "Herring                      4             7\n",
       "Major Projects               1             1\n",
       "Impact Assessment            1             1"
      ],
      "text/html": [
       "<div>\n",
       "<style scoped>\n",
       "    .dataframe tbody tr th:only-of-type {\n",
       "        vertical-align: middle;\n",
       "    }\n",
       "\n",
       "    .dataframe tbody tr th {\n",
       "        vertical-align: top;\n",
       "    }\n",
       "\n",
       "    .dataframe thead th {\n",
       "        text-align: right;\n",
       "    }\n",
       "</style>\n",
       "<table border=\"1\" class=\"dataframe\">\n",
       "  <thead>\n",
       "    <tr style=\"text-align: right;\">\n",
       "      <th></th>\n",
       "      <th>Aug 8, 2024</th>\n",
       "      <th>Dec 30, 2024</th>\n",
       "    </tr>\n",
       "    <tr>\n",
       "      <th>name</th>\n",
       "      <th></th>\n",
       "      <th></th>\n",
       "    </tr>\n",
       "  </thead>\n",
       "  <tbody>\n",
       "    <tr>\n",
       "      <th>None</th>\n",
       "      <td>1152</td>\n",
       "      <td>1200</td>\n",
       "    </tr>\n",
       "    <tr>\n",
       "      <th>Marine Mammal</th>\n",
       "      <td>39</td>\n",
       "      <td>39</td>\n",
       "    </tr>\n",
       "    <tr>\n",
       "      <th>Groundfish</th>\n",
       "      <td>16</td>\n",
       "      <td>28</td>\n",
       "    </tr>\n",
       "    <tr>\n",
       "      <th>Herring</th>\n",
       "      <td>4</td>\n",
       "      <td>7</td>\n",
       "    </tr>\n",
       "    <tr>\n",
       "      <th>Major Projects</th>\n",
       "      <td>1</td>\n",
       "      <td>1</td>\n",
       "    </tr>\n",
       "    <tr>\n",
       "      <th>Impact Assessment</th>\n",
       "      <td>1</td>\n",
       "      <td>1</td>\n",
       "    </tr>\n",
       "  </tbody>\n",
       "</table>\n",
       "</div>"
      ]
     },
     "metadata": {},
     "output_type": "display_data"
    }
   ],
   "execution_count": 20
  },
  {
   "metadata": {
    "ExecuteTime": {
     "end_time": "2024-12-30T16:24:29.761544Z",
     "start_time": "2024-12-30T16:24:29.699787Z"
    }
   },
   "cell_type": "code",
   "source": [
    "document_tags1_2020 = sql(\"\"\"\n",
    "    SELECT\n",
    "        csas2_document.id AS document_id,\n",
    "        csas2_process.id AS process_id,\n",
    "        csas2_csasrequest.id AS request_id,\n",
    "        shared_models_subjectmatter.name\n",
    "    FROM csas2_document\n",
    "        LEFT JOIN csas2_process ON csas2_document.process_id = csas2_process.id\n",
    "        LEFT JOIN csas2_process_csas_requests ON csas2_process.id = csas2_process_csas_requests.process_id\n",
    "        LEFT JOIN csas2_csasrequest ON csas2_process_csas_requests.csasrequest_id = csas2_csasrequest.id\n",
    "        LEFT JOIN csas2_csasrequest_tags ON csas2_csasrequest.id = csas2_csasrequest_tags.csasrequest_id\n",
    "        LEFT JOIN shared_models_subjectmatter ON csas2_csasrequest_tags.subjectmatter_id = shared_models_subjectmatter.id\n",
    "        LEFT JOIN csas2_meeting ON csas2_process.id = csas2_meeting.process_id\n",
    "            WHERE DATE(csas2_meeting.start_date) < '2021-01-01'\n",
    "            AND csas2_document.status NOT IN (12, 17, 99);\n",
    "\"\"\", database=\"dmapps_240807\") \n",
    "\n",
    "df1 = document_tags1_2020['name'].value_counts(dropna=False)\n",
    "\n",
    "document_tags2_2020 = sql(\"\"\"\n",
    "    SELECT\n",
    "        csas2_document.id AS document_id,\n",
    "        csas2_process.id AS process_id,\n",
    "        csas2_csasrequest.id AS request_id,\n",
    "        shared_models_subjectmatter.name\n",
    "    FROM csas2_document\n",
    "        LEFT JOIN csas2_process ON csas2_document.process_id = csas2_process.id\n",
    "        LEFT JOIN csas2_process_csas_requests ON csas2_process.id = csas2_process_csas_requests.process_id\n",
    "        LEFT JOIN csas2_csasrequest ON csas2_process_csas_requests.csasrequest_id = csas2_csasrequest.id\n",
    "        LEFT JOIN csas2_csasrequest_tags ON csas2_csasrequest.id = csas2_csasrequest_tags.csasrequest_id\n",
    "        LEFT JOIN shared_models_subjectmatter ON csas2_csasrequest_tags.subjectmatter_id = shared_models_subjectmatter.id\n",
    "        LEFT JOIN csas2_meeting ON csas2_process.id = csas2_meeting.process_id\n",
    "            WHERE DATE(csas2_meeting.start_date) < '2021-01-01'\n",
    "            AND csas2_document.status NOT IN (12, 17, 99);\n",
    "\"\"\")\n",
    "\n",
    "df2 = document_tags2_2020['name'].value_counts(dropna=False)\n",
    "\n",
    "df = pd.concat([pd.DataFrame(df1), pd.DataFrame(df2)], axis=1)\n",
    "df.columns = date_columns\n",
    "display(df)"
   ],
   "id": "d8aecb1790ca9883",
   "outputs": [
    {
     "data": {
      "text/plain": [
       "               Aug 8, 2024  Dec 30, 2024\n",
       "name                                    \n",
       "None                   114            82\n",
       "Marine Mammal            1             1"
      ],
      "text/html": [
       "<div>\n",
       "<style scoped>\n",
       "    .dataframe tbody tr th:only-of-type {\n",
       "        vertical-align: middle;\n",
       "    }\n",
       "\n",
       "    .dataframe tbody tr th {\n",
       "        vertical-align: top;\n",
       "    }\n",
       "\n",
       "    .dataframe thead th {\n",
       "        text-align: right;\n",
       "    }\n",
       "</style>\n",
       "<table border=\"1\" class=\"dataframe\">\n",
       "  <thead>\n",
       "    <tr style=\"text-align: right;\">\n",
       "      <th></th>\n",
       "      <th>Aug 8, 2024</th>\n",
       "      <th>Dec 30, 2024</th>\n",
       "    </tr>\n",
       "    <tr>\n",
       "      <th>name</th>\n",
       "      <th></th>\n",
       "      <th></th>\n",
       "    </tr>\n",
       "  </thead>\n",
       "  <tbody>\n",
       "    <tr>\n",
       "      <th>None</th>\n",
       "      <td>114</td>\n",
       "      <td>82</td>\n",
       "    </tr>\n",
       "    <tr>\n",
       "      <th>Marine Mammal</th>\n",
       "      <td>1</td>\n",
       "      <td>1</td>\n",
       "    </tr>\n",
       "  </tbody>\n",
       "</table>\n",
       "</div>"
      ]
     },
     "metadata": {},
     "output_type": "display_data"
    }
   ],
   "execution_count": 21
  },
  {
   "metadata": {},
   "cell_type": "markdown",
   "source": "### what if docs were separated into request.sector?",
   "id": "6bd718f0e60746c2"
  },
  {
   "metadata": {
    "ExecuteTime": {
     "end_time": "2024-12-30T16:24:29.845260Z",
     "start_time": "2024-12-30T16:24:29.813583Z"
    }
   },
   "cell_type": "code",
   "source": [
    "request_sectors = sql(\"\"\"\n",
    "    SELECT\n",
    "        csas2_csasrequest.id AS request_id,\n",
    "        shared_models_sector.id AS sector_id,\n",
    "        shared_models_sector.name AS sector_name\n",
    "    FROM csas2_csasrequest\n",
    "    JOIN shared_models_section ON shared_models_section.id = csas2_csasrequest.section_id\n",
    "    JOIN shared_models_division ON shared_models_division.id = shared_models_section.division_id\n",
    "    JOIN shared_models_branch ON shared_models_branch.id = shared_models_division.branch_id\n",
    "    JOIN shared_models_sector ON shared_models_sector.id = shared_models_branch.sector_id;\n",
    "\"\"\")"
   ],
   "id": "d3e6510a52954d31",
   "outputs": [],
   "execution_count": 22
  },
  {
   "metadata": {
    "ExecuteTime": {
     "end_time": "2024-12-30T16:24:29.972315Z",
     "start_time": "2024-12-30T16:24:29.968270Z"
    }
   },
   "cell_type": "code",
   "source": "set(request_sectors.sector_name)",
   "id": "836e3756f00fb3ab",
   "outputs": [
    {
     "data": {
      "text/plain": [
       "{'Aquatic Ecosystems',\n",
       " 'Ecosystems & Oceans Science',\n",
       " 'Fisheries & Harbour Management',\n",
       " 'Strategic Policy'}"
      ]
     },
     "execution_count": 23,
     "metadata": {},
     "output_type": "execute_result"
    }
   ],
   "execution_count": 23
  },
  {
   "metadata": {
    "ExecuteTime": {
     "end_time": "2024-12-30T16:24:30.129902Z",
     "start_time": "2024-12-30T16:24:30.050736Z"
    }
   },
   "cell_type": "code",
   "source": [
    "df1 = sql(\"\"\"\n",
    "    SELECT\n",
    "        csas2_document.id AS document_id,\n",
    "        csas2_process.id AS process_id,\n",
    "        csas2_csasrequest.id AS request_id,\n",
    "        shared_models_sector.id AS sector_id,\n",
    "        shared_models_sector.name AS sector_name\n",
    "    FROM csas2_document\n",
    "        JOIN csas2_process ON csas2_document.process_id = csas2_process.id\n",
    "        JOIN csas2_process_csas_requests ON csas2_process.id = csas2_process_csas_requests.process_id\n",
    "        JOIN csas2_csasrequest ON csas2_process_csas_requests.csasrequest_id = csas2_csasrequest.id\n",
    "        JOIN shared_models_section ON shared_models_section.id = csas2_csasrequest.section_id\n",
    "        JOIN shared_models_division ON shared_models_division.id = shared_models_section.division_id\n",
    "        JOIN shared_models_branch ON shared_models_branch.id = shared_models_division.branch_id\n",
    "        JOIN shared_models_sector ON shared_models_sector.id = shared_models_branch.sector_id\n",
    "\"\"\", \n",
    "database=\"dmapps_240807\")['sector_name'].value_counts()\n",
    "\n",
    "df2 = sql(\"\"\"\n",
    "    SELECT\n",
    "        csas2_document.id AS document_id,\n",
    "        csas2_process.id AS process_id,\n",
    "        csas2_csasrequest.id AS request_id,\n",
    "        shared_models_sector.id AS sector_id,\n",
    "        shared_models_sector.name AS sector_name\n",
    "    FROM csas2_document\n",
    "        JOIN csas2_process ON csas2_document.process_id = csas2_process.id\n",
    "        JOIN csas2_process_csas_requests ON csas2_process.id = csas2_process_csas_requests.process_id\n",
    "        JOIN csas2_csasrequest ON csas2_process_csas_requests.csasrequest_id = csas2_csasrequest.id\n",
    "        JOIN shared_models_section ON shared_models_section.id = csas2_csasrequest.section_id\n",
    "        JOIN shared_models_division ON shared_models_division.id = shared_models_section.division_id\n",
    "        JOIN shared_models_branch ON shared_models_branch.id = shared_models_division.branch_id\n",
    "        JOIN shared_models_sector ON shared_models_sector.id = shared_models_branch.sector_id\n",
    "\"\"\")['sector_name'].value_counts()\n",
    "\n",
    "df = pd.concat([pd.DataFrame(df1), pd.DataFrame(df2)], axis=1)\n",
    "df.columns = date_columns\n",
    "display(df)"
   ],
   "id": "8881f8bed87fdf37",
   "outputs": [
    {
     "data": {
      "text/plain": [
       "                                Aug 8, 2024  Dec 30, 2024\n",
       "sector_name                                              \n",
       "Ecosystems & Oceans Science             781           788\n",
       "Fisheries & Harbour Management          287           337\n",
       "Aquatic Ecosystems                      144           150"
      ],
      "text/html": [
       "<div>\n",
       "<style scoped>\n",
       "    .dataframe tbody tr th:only-of-type {\n",
       "        vertical-align: middle;\n",
       "    }\n",
       "\n",
       "    .dataframe tbody tr th {\n",
       "        vertical-align: top;\n",
       "    }\n",
       "\n",
       "    .dataframe thead th {\n",
       "        text-align: right;\n",
       "    }\n",
       "</style>\n",
       "<table border=\"1\" class=\"dataframe\">\n",
       "  <thead>\n",
       "    <tr style=\"text-align: right;\">\n",
       "      <th></th>\n",
       "      <th>Aug 8, 2024</th>\n",
       "      <th>Dec 30, 2024</th>\n",
       "    </tr>\n",
       "    <tr>\n",
       "      <th>sector_name</th>\n",
       "      <th></th>\n",
       "      <th></th>\n",
       "    </tr>\n",
       "  </thead>\n",
       "  <tbody>\n",
       "    <tr>\n",
       "      <th>Ecosystems &amp; Oceans Science</th>\n",
       "      <td>781</td>\n",
       "      <td>788</td>\n",
       "    </tr>\n",
       "    <tr>\n",
       "      <th>Fisheries &amp; Harbour Management</th>\n",
       "      <td>287</td>\n",
       "      <td>337</td>\n",
       "    </tr>\n",
       "    <tr>\n",
       "      <th>Aquatic Ecosystems</th>\n",
       "      <td>144</td>\n",
       "      <td>150</td>\n",
       "    </tr>\n",
       "  </tbody>\n",
       "</table>\n",
       "</div>"
      ]
     },
     "metadata": {},
     "output_type": "display_data"
    }
   ],
   "execution_count": 24
  },
  {
   "metadata": {
    "ExecuteTime": {
     "end_time": "2024-12-30T16:24:30.238927Z",
     "start_time": "2024-12-30T16:24:30.177527Z"
    }
   },
   "cell_type": "code",
   "source": [
    "df1 = sql(\"\"\"\n",
    "    SELECT\n",
    "        csas2_document.id AS document_id,\n",
    "        csas2_process.id AS process_id,\n",
    "        csas2_csasrequest.id AS request_id,\n",
    "        shared_models_sector.id AS sector_id,\n",
    "        shared_models_sector.name AS sector_name\n",
    "    FROM csas2_document\n",
    "        JOIN csas2_process ON csas2_document.process_id = csas2_process.id\n",
    "        JOIN csas2_process_csas_requests ON csas2_process.id = csas2_process_csas_requests.process_id\n",
    "        JOIN csas2_csasrequest ON csas2_process_csas_requests.csasrequest_id = csas2_csasrequest.id\n",
    "        JOIN shared_models_section ON shared_models_section.id = csas2_csasrequest.section_id\n",
    "        JOIN shared_models_division ON shared_models_division.id = shared_models_section.division_id\n",
    "        JOIN shared_models_branch ON shared_models_branch.id = shared_models_division.branch_id\n",
    "        JOIN shared_models_sector ON shared_models_sector.id = shared_models_branch.sector_id\n",
    "        LEFT JOIN csas2_meeting ON csas2_process.id = csas2_meeting.process_id\n",
    "            WHERE DATE(csas2_meeting.start_date) < '2021-01-01'\n",
    "            AND csas2_document.status NOT IN (12, 17, 99);\n",
    "\"\"\", \n",
    "database=\"dmapps_240807\")['sector_name'].value_counts()\n",
    "\n",
    "df2 = sql(\"\"\"\n",
    "    SELECT\n",
    "        csas2_document.id AS document_id,\n",
    "        csas2_process.id AS process_id,\n",
    "        csas2_csasrequest.id AS request_id,\n",
    "        shared_models_sector.id AS sector_id,\n",
    "        shared_models_sector.name AS sector_name\n",
    "    FROM csas2_document\n",
    "        JOIN csas2_process ON csas2_document.process_id = csas2_process.id\n",
    "        JOIN csas2_process_csas_requests ON csas2_process.id = csas2_process_csas_requests.process_id\n",
    "        JOIN csas2_csasrequest ON csas2_process_csas_requests.csasrequest_id = csas2_csasrequest.id\n",
    "        JOIN shared_models_section ON shared_models_section.id = csas2_csasrequest.section_id\n",
    "        JOIN shared_models_division ON shared_models_division.id = shared_models_section.division_id\n",
    "        JOIN shared_models_branch ON shared_models_branch.id = shared_models_division.branch_id\n",
    "        JOIN shared_models_sector ON shared_models_sector.id = shared_models_branch.sector_id\n",
    "        LEFT JOIN csas2_meeting ON csas2_process.id = csas2_meeting.process_id\n",
    "            WHERE DATE(csas2_meeting.start_date) < '2021-01-01'\n",
    "            AND csas2_document.status NOT IN (12, 17, 99);\n",
    "\"\"\")['sector_name'].value_counts()\n",
    "\n",
    "df = pd.concat([pd.DataFrame(df1), pd.DataFrame(df2)], axis=1)\n",
    "df.columns = date_columns\n",
    "display(df)"
   ],
   "id": "96f5c273b7df80d5",
   "outputs": [
    {
     "data": {
      "text/plain": [
       "                                Aug 8, 2024  Dec 30, 2024\n",
       "sector_name                                              \n",
       "Ecosystems & Oceans Science             112            81\n",
       "Fisheries & Harbour Management            2             1\n",
       "Aquatic Ecosystems                        1             1"
      ],
      "text/html": [
       "<div>\n",
       "<style scoped>\n",
       "    .dataframe tbody tr th:only-of-type {\n",
       "        vertical-align: middle;\n",
       "    }\n",
       "\n",
       "    .dataframe tbody tr th {\n",
       "        vertical-align: top;\n",
       "    }\n",
       "\n",
       "    .dataframe thead th {\n",
       "        text-align: right;\n",
       "    }\n",
       "</style>\n",
       "<table border=\"1\" class=\"dataframe\">\n",
       "  <thead>\n",
       "    <tr style=\"text-align: right;\">\n",
       "      <th></th>\n",
       "      <th>Aug 8, 2024</th>\n",
       "      <th>Dec 30, 2024</th>\n",
       "    </tr>\n",
       "    <tr>\n",
       "      <th>sector_name</th>\n",
       "      <th></th>\n",
       "      <th></th>\n",
       "    </tr>\n",
       "  </thead>\n",
       "  <tbody>\n",
       "    <tr>\n",
       "      <th>Ecosystems &amp; Oceans Science</th>\n",
       "      <td>112</td>\n",
       "      <td>81</td>\n",
       "    </tr>\n",
       "    <tr>\n",
       "      <th>Fisheries &amp; Harbour Management</th>\n",
       "      <td>2</td>\n",
       "      <td>1</td>\n",
       "    </tr>\n",
       "    <tr>\n",
       "      <th>Aquatic Ecosystems</th>\n",
       "      <td>1</td>\n",
       "      <td>1</td>\n",
       "    </tr>\n",
       "  </tbody>\n",
       "</table>\n",
       "</div>"
      ]
     },
     "metadata": {},
     "output_type": "display_data"
    }
   ],
   "execution_count": 25
  },
  {
   "metadata": {},
   "cell_type": "markdown",
   "source": [
    "### why are there no \"Strategic Policy\" documents?\n",
    "(probably because policy questions are not supposed to use the CSAS process)"
   ],
   "id": "2a1653a9a6573fe6"
  },
  {
   "metadata": {
    "ExecuteTime": {
     "end_time": "2024-12-30T16:24:30.417431Z",
     "start_time": "2024-12-30T16:24:30.410676Z"
    }
   },
   "cell_type": "code",
   "source": "request_sectors[request_sectors.sector_name == \"Strategic Policy\"]",
   "id": "f843af0f98e6fb2a",
   "outputs": [
    {
     "data": {
      "text/plain": [
       "      request_id  sector_id       sector_name\n",
       "1015         329          2  Strategic Policy\n",
       "1016         356          2  Strategic Policy\n",
       "1017         402          2  Strategic Policy\n",
       "1018         466          2  Strategic Policy\n",
       "1019        1643          2  Strategic Policy"
      ],
      "text/html": [
       "<div>\n",
       "<style scoped>\n",
       "    .dataframe tbody tr th:only-of-type {\n",
       "        vertical-align: middle;\n",
       "    }\n",
       "\n",
       "    .dataframe tbody tr th {\n",
       "        vertical-align: top;\n",
       "    }\n",
       "\n",
       "    .dataframe thead th {\n",
       "        text-align: right;\n",
       "    }\n",
       "</style>\n",
       "<table border=\"1\" class=\"dataframe\">\n",
       "  <thead>\n",
       "    <tr style=\"text-align: right;\">\n",
       "      <th></th>\n",
       "      <th>request_id</th>\n",
       "      <th>sector_id</th>\n",
       "      <th>sector_name</th>\n",
       "    </tr>\n",
       "  </thead>\n",
       "  <tbody>\n",
       "    <tr>\n",
       "      <th>1015</th>\n",
       "      <td>329</td>\n",
       "      <td>2</td>\n",
       "      <td>Strategic Policy</td>\n",
       "    </tr>\n",
       "    <tr>\n",
       "      <th>1016</th>\n",
       "      <td>356</td>\n",
       "      <td>2</td>\n",
       "      <td>Strategic Policy</td>\n",
       "    </tr>\n",
       "    <tr>\n",
       "      <th>1017</th>\n",
       "      <td>402</td>\n",
       "      <td>2</td>\n",
       "      <td>Strategic Policy</td>\n",
       "    </tr>\n",
       "    <tr>\n",
       "      <th>1018</th>\n",
       "      <td>466</td>\n",
       "      <td>2</td>\n",
       "      <td>Strategic Policy</td>\n",
       "    </tr>\n",
       "    <tr>\n",
       "      <th>1019</th>\n",
       "      <td>1643</td>\n",
       "      <td>2</td>\n",
       "      <td>Strategic Policy</td>\n",
       "    </tr>\n",
       "  </tbody>\n",
       "</table>\n",
       "</div>"
      ]
     },
     "execution_count": 26,
     "metadata": {},
     "output_type": "execute_result"
    }
   ],
   "execution_count": 26
  },
  {
   "metadata": {
    "ExecuteTime": {
     "end_time": "2024-12-30T16:24:30.611713Z",
     "start_time": "2024-12-30T16:24:30.534736Z"
    }
   },
   "cell_type": "code",
   "source": [
    "processes = sql(\"SELECT * FROM csas2_process\")\n",
    "policy_requests = list(request_sectors[request_sectors.sector_name == \"Strategic Policy\"].request_id)\n",
    "\n",
    "request_documents = sql(\"\"\"\n",
    "    SELECT\n",
    "        csas2_csasrequest.id AS request_id,\n",
    "        csas2_csasrequest.status AS request_status,\n",
    "        csas2_process.id AS process_id,\n",
    "        csas2_document.id AS document_id\n",
    "    FROM csas2_csasrequest\n",
    "        LEFT JOIN csas2_process_csas_requests ON csas2_process_csas_requests.csasrequest_id = csas2_csasrequest.id\n",
    "        LEFT JOIN csas2_process ON csas2_process_csas_requests.process_id = csas2_process.id\n",
    "        LEFT JOIN csas2_document ON csas2_document.process_id = csas2_process.id;  \n",
    "\"\"\")\n",
    "request_documents[request_documents.request_id.isin(policy_requests)]"
   ],
   "id": "a7393f7644a4b0ab",
   "outputs": [
    {
     "data": {
      "text/plain": [
       "      request_id  request_status  process_id  document_id\n",
       "367          329              99         NaN          NaN\n",
       "408          356              40         NaN          NaN\n",
       "425          402              40         NaN          NaN\n",
       "484          466              40         NaN          NaN\n",
       "2232        1643              99         NaN          NaN"
      ],
      "text/html": [
       "<div>\n",
       "<style scoped>\n",
       "    .dataframe tbody tr th:only-of-type {\n",
       "        vertical-align: middle;\n",
       "    }\n",
       "\n",
       "    .dataframe tbody tr th {\n",
       "        vertical-align: top;\n",
       "    }\n",
       "\n",
       "    .dataframe thead th {\n",
       "        text-align: right;\n",
       "    }\n",
       "</style>\n",
       "<table border=\"1\" class=\"dataframe\">\n",
       "  <thead>\n",
       "    <tr style=\"text-align: right;\">\n",
       "      <th></th>\n",
       "      <th>request_id</th>\n",
       "      <th>request_status</th>\n",
       "      <th>process_id</th>\n",
       "      <th>document_id</th>\n",
       "    </tr>\n",
       "  </thead>\n",
       "  <tbody>\n",
       "    <tr>\n",
       "      <th>367</th>\n",
       "      <td>329</td>\n",
       "      <td>99</td>\n",
       "      <td>NaN</td>\n",
       "      <td>NaN</td>\n",
       "    </tr>\n",
       "    <tr>\n",
       "      <th>408</th>\n",
       "      <td>356</td>\n",
       "      <td>40</td>\n",
       "      <td>NaN</td>\n",
       "      <td>NaN</td>\n",
       "    </tr>\n",
       "    <tr>\n",
       "      <th>425</th>\n",
       "      <td>402</td>\n",
       "      <td>40</td>\n",
       "      <td>NaN</td>\n",
       "      <td>NaN</td>\n",
       "    </tr>\n",
       "    <tr>\n",
       "      <th>484</th>\n",
       "      <td>466</td>\n",
       "      <td>40</td>\n",
       "      <td>NaN</td>\n",
       "      <td>NaN</td>\n",
       "    </tr>\n",
       "    <tr>\n",
       "      <th>2232</th>\n",
       "      <td>1643</td>\n",
       "      <td>99</td>\n",
       "      <td>NaN</td>\n",
       "      <td>NaN</td>\n",
       "    </tr>\n",
       "  </tbody>\n",
       "</table>\n",
       "</div>"
      ]
     },
     "execution_count": 27,
     "metadata": {},
     "output_type": "execute_result"
    }
   ],
   "execution_count": 27
  },
  {
   "metadata": {
    "ExecuteTime": {
     "end_time": "2024-12-30T16:24:30.708410Z",
     "start_time": "2024-12-30T16:24:30.695569Z"
    }
   },
   "cell_type": "code",
   "source": "",
   "id": "bef5752154b12db5",
   "outputs": [],
   "execution_count": null
  }
 ],
 "metadata": {
  "kernelspec": {
   "display_name": "Python 3",
   "language": "python",
   "name": "python3"
  },
  "language_info": {
   "codemirror_mode": {
    "name": "ipython",
    "version": 2
   },
   "file_extension": ".py",
   "mimetype": "text/x-python",
   "name": "python",
   "nbconvert_exporter": "python",
   "pygments_lexer": "ipython2",
   "version": "2.7.6"
  }
 },
 "nbformat": 4,
 "nbformat_minor": 5
}
