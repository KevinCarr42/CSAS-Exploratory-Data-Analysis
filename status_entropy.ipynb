{
 "cells": [
  {
   "cell_type": "code",
   "id": "initial_id",
   "metadata": {
    "collapsed": true,
    "ExecuteTime": {
     "end_time": "2025-06-17T13:08:23.385072Z",
     "start_time": "2025-06-17T13:08:23.236890Z"
    }
   },
   "source": [
    "import scipy\n",
    "import pandas as pd\n",
    "\n",
    "from helpers import sql\n",
    "\n",
    "# pandas formatting\n",
    "pd.set_option('display.max_rows', 100)\n",
    "pd.set_option('display.max_columns', 100)\n",
    "pd.set_option('max_colwidth', 200)"
   ],
   "outputs": [],
   "execution_count": 1
  },
  {
   "metadata": {
    "ExecuteTime": {
     "end_time": "2025-06-17T13:08:23.511810Z",
     "start_time": "2025-06-17T13:08:23.385072Z"
    }
   },
   "cell_type": "code",
   "source": "df = sql(\"SELECT * FROM csas2_csasrequest;\")",
   "id": "87e79e7f9d5070f4",
   "outputs": [],
   "execution_count": 2
  },
  {
   "metadata": {
    "ExecuteTime": {
     "end_time": "2025-06-17T13:08:24.112786Z",
     "start_time": "2025-06-17T13:08:24.107747Z"
    }
   },
   "cell_type": "code",
   "source": [
    "\"\"\"\n",
    "2 Collapse the long tail until k ≈ Nₑff\n",
    "Sort vc descending.\n",
    "\n",
    "Starting from the smallest counts, iteratively merge each rare status into a parent (or “Other”) and recompute k.\n",
    "\n",
    "Stop when k ≤ Nₑff × (1 to 1.5).\n",
    "That 1.5 buffer keeps a bit of nuance without re-inflating the list.\n",
    "\"\"\"\n",
    "\n",
    "def do_stats(counts_dataframe):\n",
    "    entropy = scipy.stats.entropy(counts_dataframe, base=2)\n",
    "    n_eff = 2**scipy.stats.entropy(counts_dataframe, base=2)\n",
    "    redundancy = len(counts_dataframe) / n_eff\n",
    "    \n",
    "    return entropy, n_eff, redundancy \n",
    "\n",
    "\n",
    "def print_stats(counts_dataframe):\n",
    "    e, n, r = do_stats(counts_dataframe)\n",
    "    \n",
    "    print('\\nentropy:\\t', round(float(e), 2))\n",
    "    print('n_eff:\\t\\t', round(float(n), 2))\n",
    "    print('redundancy:\\t', round(float(r), 2))\n",
    "    print()\n",
    "    display(pd.DataFrame(counts_dataframe))\n",
    "    print()\n"
   ],
   "id": "243f348876f511c5",
   "outputs": [],
   "execution_count": 3
  },
  {
   "metadata": {
    "ExecuteTime": {
     "end_time": "2025-06-17T13:08:24.133696Z",
     "start_time": "2025-06-17T13:08:24.122310Z"
    }
   },
   "cell_type": "code",
   "source": [
    "# base case, no changes\n",
    "\"\"\"\n",
    "\n",
    "Status List:\n",
    "\n",
    "    DRAFT = 10\n",
    "    UNDER_CLIENT_APPROVAL = 20\n",
    "    AWAITING_CHANGES = 25\n",
    "    READY_FOR_CSAS_REVIEW = 30\n",
    "    UNDER_CSAS_REVIEW = 40\n",
    "    SCREENED_IN = 41\n",
    "    FLAGGED = 42\n",
    "    RESCOPING = 43\n",
    "    REFER_TO_PROCESS = 70\n",
    "    FULFILLED = 80\n",
    "    WITHDRAWN = 99\n",
    "\n",
    "\"\"\"\n",
    "\n",
    "vc = df['status'].value_counts(normalize=True)\n",
    "print_stats(vc)"
   ],
   "id": "b288774aa8156efa",
   "outputs": [
    {
     "name": "stdout",
     "output_type": "stream",
     "text": [
      "\n",
      "entropy:\t 2.74\n",
      "n_eff:\t\t 6.66\n",
      "redundancy:\t 1.65\n",
      "\n"
     ]
    },
    {
     "data": {
      "text/plain": [
       "        proportion\n",
       "status            \n",
       "99        0.275715\n",
       "80        0.217894\n",
       "70        0.174680\n",
       "41        0.127815\n",
       "30        0.065733\n",
       "10        0.059038\n",
       "40        0.041388\n",
       "42        0.021302\n",
       "43        0.010956\n",
       "20        0.003652\n",
       "25        0.001826"
      ],
      "text/html": [
       "<div>\n",
       "<style scoped>\n",
       "    .dataframe tbody tr th:only-of-type {\n",
       "        vertical-align: middle;\n",
       "    }\n",
       "\n",
       "    .dataframe tbody tr th {\n",
       "        vertical-align: top;\n",
       "    }\n",
       "\n",
       "    .dataframe thead th {\n",
       "        text-align: right;\n",
       "    }\n",
       "</style>\n",
       "<table border=\"1\" class=\"dataframe\">\n",
       "  <thead>\n",
       "    <tr style=\"text-align: right;\">\n",
       "      <th></th>\n",
       "      <th>proportion</th>\n",
       "    </tr>\n",
       "    <tr>\n",
       "      <th>status</th>\n",
       "      <th></th>\n",
       "    </tr>\n",
       "  </thead>\n",
       "  <tbody>\n",
       "    <tr>\n",
       "      <th>99</th>\n",
       "      <td>0.275715</td>\n",
       "    </tr>\n",
       "    <tr>\n",
       "      <th>80</th>\n",
       "      <td>0.217894</td>\n",
       "    </tr>\n",
       "    <tr>\n",
       "      <th>70</th>\n",
       "      <td>0.174680</td>\n",
       "    </tr>\n",
       "    <tr>\n",
       "      <th>41</th>\n",
       "      <td>0.127815</td>\n",
       "    </tr>\n",
       "    <tr>\n",
       "      <th>30</th>\n",
       "      <td>0.065733</td>\n",
       "    </tr>\n",
       "    <tr>\n",
       "      <th>10</th>\n",
       "      <td>0.059038</td>\n",
       "    </tr>\n",
       "    <tr>\n",
       "      <th>40</th>\n",
       "      <td>0.041388</td>\n",
       "    </tr>\n",
       "    <tr>\n",
       "      <th>42</th>\n",
       "      <td>0.021302</td>\n",
       "    </tr>\n",
       "    <tr>\n",
       "      <th>43</th>\n",
       "      <td>0.010956</td>\n",
       "    </tr>\n",
       "    <tr>\n",
       "      <th>20</th>\n",
       "      <td>0.003652</td>\n",
       "    </tr>\n",
       "    <tr>\n",
       "      <th>25</th>\n",
       "      <td>0.001826</td>\n",
       "    </tr>\n",
       "  </tbody>\n",
       "</table>\n",
       "</div>"
      ]
     },
     "metadata": {},
     "output_type": "display_data"
    },
    {
     "name": "stdout",
     "output_type": "stream",
     "text": [
      "\n"
     ]
    }
   ],
   "execution_count": 4
  },
  {
   "metadata": {
    "ExecuteTime": {
     "end_time": "2025-06-17T13:08:24.292894Z",
     "start_time": "2025-06-17T13:08:24.284701Z"
    }
   },
   "cell_type": "code",
   "source": [
    "# 20 and 25 are both 20 (Under Client Approval)\n",
    "\"\"\"\n",
    "\n",
    "New Status List:\n",
    "\n",
    "    DRAFT\n",
    "    UNDER_CLIENT_APPROVAL\n",
    "    READY_FOR_CSAS_REVIEW\n",
    "    UNDER_CSAS_REVIEW\n",
    "    SCREENED_IN\n",
    "    FLAGGED\n",
    "    RESCOPING\n",
    "    REFER_TO_PROCESS\n",
    "    FULFILLED\n",
    "    WITHDRAWN\n",
    "\n",
    "\"\"\"\n",
    "\n",
    "vc2 = vc.copy()\n",
    "vc2[20] += vc2.pop(25)\n",
    "print_stats(vc2)"
   ],
   "id": "c43f80049cbc62a2",
   "outputs": [
    {
     "name": "stdout",
     "output_type": "stream",
     "text": [
      "\n",
      "entropy:\t 2.73\n",
      "n_eff:\t\t 6.64\n",
      "redundancy:\t 1.51\n",
      "\n"
     ]
    },
    {
     "data": {
      "text/plain": [
       "        proportion\n",
       "status            \n",
       "99        0.275715\n",
       "80        0.217894\n",
       "70        0.174680\n",
       "41        0.127815\n",
       "30        0.065733\n",
       "10        0.059038\n",
       "40        0.041388\n",
       "42        0.021302\n",
       "43        0.010956\n",
       "20        0.005478"
      ],
      "text/html": [
       "<div>\n",
       "<style scoped>\n",
       "    .dataframe tbody tr th:only-of-type {\n",
       "        vertical-align: middle;\n",
       "    }\n",
       "\n",
       "    .dataframe tbody tr th {\n",
       "        vertical-align: top;\n",
       "    }\n",
       "\n",
       "    .dataframe thead th {\n",
       "        text-align: right;\n",
       "    }\n",
       "</style>\n",
       "<table border=\"1\" class=\"dataframe\">\n",
       "  <thead>\n",
       "    <tr style=\"text-align: right;\">\n",
       "      <th></th>\n",
       "      <th>proportion</th>\n",
       "    </tr>\n",
       "    <tr>\n",
       "      <th>status</th>\n",
       "      <th></th>\n",
       "    </tr>\n",
       "  </thead>\n",
       "  <tbody>\n",
       "    <tr>\n",
       "      <th>99</th>\n",
       "      <td>0.275715</td>\n",
       "    </tr>\n",
       "    <tr>\n",
       "      <th>80</th>\n",
       "      <td>0.217894</td>\n",
       "    </tr>\n",
       "    <tr>\n",
       "      <th>70</th>\n",
       "      <td>0.174680</td>\n",
       "    </tr>\n",
       "    <tr>\n",
       "      <th>41</th>\n",
       "      <td>0.127815</td>\n",
       "    </tr>\n",
       "    <tr>\n",
       "      <th>30</th>\n",
       "      <td>0.065733</td>\n",
       "    </tr>\n",
       "    <tr>\n",
       "      <th>10</th>\n",
       "      <td>0.059038</td>\n",
       "    </tr>\n",
       "    <tr>\n",
       "      <th>40</th>\n",
       "      <td>0.041388</td>\n",
       "    </tr>\n",
       "    <tr>\n",
       "      <th>42</th>\n",
       "      <td>0.021302</td>\n",
       "    </tr>\n",
       "    <tr>\n",
       "      <th>43</th>\n",
       "      <td>0.010956</td>\n",
       "    </tr>\n",
       "    <tr>\n",
       "      <th>20</th>\n",
       "      <td>0.005478</td>\n",
       "    </tr>\n",
       "  </tbody>\n",
       "</table>\n",
       "</div>"
      ]
     },
     "metadata": {},
     "output_type": "display_data"
    },
    {
     "name": "stdout",
     "output_type": "stream",
     "text": [
      "\n"
     ]
    }
   ],
   "execution_count": 5
  },
  {
   "metadata": {
    "ExecuteTime": {
     "end_time": "2025-06-17T13:08:24.360712Z",
     "start_time": "2025-06-17T13:08:24.341877Z"
    }
   },
   "cell_type": "code",
   "source": [
    "# 30, 40, 42, and 43 are all 40 (UNDER_CSAS_REVIEW)\n",
    "\"\"\"\n",
    "\n",
    "New Status List:\n",
    "\n",
    "    DRAFT\n",
    "    UNDER_CLIENT_APPROVAL\n",
    "    AWAITING_CHANGES\n",
    "    UNDER_CSAS_REVIEW\n",
    "    SCREENED_IN\n",
    "    REFER_TO_PROCESS\n",
    "    FULFILLED\n",
    "    WITHDRAWN\n",
    "\n",
    "\"\"\"\n",
    "\n",
    "vc3 = vc.copy()\n",
    "vc3[40] += vc3.pop(30)\n",
    "vc3[40] += vc3.pop(41)\n",
    "vc3[40] += vc3.pop(42)\n",
    "vc3[40] += vc3.pop(43)\n",
    "print_stats(vc3)"
   ],
   "id": "cfaf4bc72a51e32d",
   "outputs": [
    {
     "name": "stdout",
     "output_type": "stream",
     "text": [
      "\n",
      "entropy:\t 2.23\n",
      "n_eff:\t\t 4.68\n",
      "redundancy:\t 1.5\n",
      "\n"
     ]
    },
    {
     "data": {
      "text/plain": [
       "        proportion\n",
       "status            \n",
       "99        0.275715\n",
       "80        0.217894\n",
       "70        0.174680\n",
       "10        0.059038\n",
       "40        0.267194\n",
       "20        0.003652\n",
       "25        0.001826"
      ],
      "text/html": [
       "<div>\n",
       "<style scoped>\n",
       "    .dataframe tbody tr th:only-of-type {\n",
       "        vertical-align: middle;\n",
       "    }\n",
       "\n",
       "    .dataframe tbody tr th {\n",
       "        vertical-align: top;\n",
       "    }\n",
       "\n",
       "    .dataframe thead th {\n",
       "        text-align: right;\n",
       "    }\n",
       "</style>\n",
       "<table border=\"1\" class=\"dataframe\">\n",
       "  <thead>\n",
       "    <tr style=\"text-align: right;\">\n",
       "      <th></th>\n",
       "      <th>proportion</th>\n",
       "    </tr>\n",
       "    <tr>\n",
       "      <th>status</th>\n",
       "      <th></th>\n",
       "    </tr>\n",
       "  </thead>\n",
       "  <tbody>\n",
       "    <tr>\n",
       "      <th>99</th>\n",
       "      <td>0.275715</td>\n",
       "    </tr>\n",
       "    <tr>\n",
       "      <th>80</th>\n",
       "      <td>0.217894</td>\n",
       "    </tr>\n",
       "    <tr>\n",
       "      <th>70</th>\n",
       "      <td>0.174680</td>\n",
       "    </tr>\n",
       "    <tr>\n",
       "      <th>10</th>\n",
       "      <td>0.059038</td>\n",
       "    </tr>\n",
       "    <tr>\n",
       "      <th>40</th>\n",
       "      <td>0.267194</td>\n",
       "    </tr>\n",
       "    <tr>\n",
       "      <th>20</th>\n",
       "      <td>0.003652</td>\n",
       "    </tr>\n",
       "    <tr>\n",
       "      <th>25</th>\n",
       "      <td>0.001826</td>\n",
       "    </tr>\n",
       "  </tbody>\n",
       "</table>\n",
       "</div>"
      ]
     },
     "metadata": {},
     "output_type": "display_data"
    },
    {
     "name": "stdout",
     "output_type": "stream",
     "text": [
      "\n"
     ]
    }
   ],
   "execution_count": 6
  },
  {
   "metadata": {
    "ExecuteTime": {
     "end_time": "2025-06-17T13:08:24.421105Z",
     "start_time": "2025-06-17T13:08:24.404974Z"
    }
   },
   "cell_type": "code",
   "source": [
    "# both of the above\n",
    "\"\"\"\n",
    "\n",
    "New Status List:\n",
    "\n",
    "    DRAFT\n",
    "    UNDER_CLIENT_APPROVAL\n",
    "    UNDER_CSAS_REVIEW\n",
    "    SCREENED_IN\n",
    "    REFER_TO_PROCESS\n",
    "    FULFILLED\n",
    "    WITHDRAWN\n",
    "\n",
    "\"\"\"\n",
    "\n",
    "vc4 = vc.copy()\n",
    "vc4[20] += vc4.pop(25)\n",
    "vc4[40] += vc4.pop(30)\n",
    "vc4[40] += vc4.pop(41)\n",
    "vc4[40] += vc4.pop(42)\n",
    "vc4[40] += vc4.pop(43)\n",
    "print_stats(vc4)"
   ],
   "id": "49d60397fe4c4962",
   "outputs": [
    {
     "name": "stdout",
     "output_type": "stream",
     "text": [
      "\n",
      "entropy:\t 2.22\n",
      "n_eff:\t\t 4.67\n",
      "redundancy:\t 1.29\n",
      "\n"
     ]
    },
    {
     "data": {
      "text/plain": [
       "        proportion\n",
       "status            \n",
       "99        0.275715\n",
       "80        0.217894\n",
       "70        0.174680\n",
       "10        0.059038\n",
       "40        0.267194\n",
       "20        0.005478"
      ],
      "text/html": [
       "<div>\n",
       "<style scoped>\n",
       "    .dataframe tbody tr th:only-of-type {\n",
       "        vertical-align: middle;\n",
       "    }\n",
       "\n",
       "    .dataframe tbody tr th {\n",
       "        vertical-align: top;\n",
       "    }\n",
       "\n",
       "    .dataframe thead th {\n",
       "        text-align: right;\n",
       "    }\n",
       "</style>\n",
       "<table border=\"1\" class=\"dataframe\">\n",
       "  <thead>\n",
       "    <tr style=\"text-align: right;\">\n",
       "      <th></th>\n",
       "      <th>proportion</th>\n",
       "    </tr>\n",
       "    <tr>\n",
       "      <th>status</th>\n",
       "      <th></th>\n",
       "    </tr>\n",
       "  </thead>\n",
       "  <tbody>\n",
       "    <tr>\n",
       "      <th>99</th>\n",
       "      <td>0.275715</td>\n",
       "    </tr>\n",
       "    <tr>\n",
       "      <th>80</th>\n",
       "      <td>0.217894</td>\n",
       "    </tr>\n",
       "    <tr>\n",
       "      <th>70</th>\n",
       "      <td>0.174680</td>\n",
       "    </tr>\n",
       "    <tr>\n",
       "      <th>10</th>\n",
       "      <td>0.059038</td>\n",
       "    </tr>\n",
       "    <tr>\n",
       "      <th>40</th>\n",
       "      <td>0.267194</td>\n",
       "    </tr>\n",
       "    <tr>\n",
       "      <th>20</th>\n",
       "      <td>0.005478</td>\n",
       "    </tr>\n",
       "  </tbody>\n",
       "</table>\n",
       "</div>"
      ]
     },
     "metadata": {},
     "output_type": "display_data"
    },
    {
     "name": "stdout",
     "output_type": "stream",
     "text": [
      "\n"
     ]
    }
   ],
   "execution_count": 7
  },
  {
   "metadata": {
    "ExecuteTime": {
     "end_time": "2025-06-17T13:08:24.493428Z",
     "start_time": "2025-06-17T13:08:24.484435Z"
    }
   },
   "cell_type": "code",
   "source": "",
   "id": "e564644b88d29090",
   "outputs": [],
   "execution_count": null
  },
  {
   "metadata": {
    "ExecuteTime": {
     "end_time": "2025-06-17T13:08:24.569738Z",
     "start_time": "2025-06-17T13:08:24.567171Z"
    }
   },
   "cell_type": "code",
   "source": "",
   "id": "23af868e2337d0cc",
   "outputs": [],
   "execution_count": null
  }
 ],
 "metadata": {
  "kernelspec": {
   "display_name": "Python 3",
   "language": "python",
   "name": "python3"
  },
  "language_info": {
   "codemirror_mode": {
    "name": "ipython",
    "version": 2
   },
   "file_extension": ".py",
   "mimetype": "text/x-python",
   "name": "python",
   "nbconvert_exporter": "python",
   "pygments_lexer": "ipython2",
   "version": "2.7.6"
  }
 },
 "nbformat": 4,
 "nbformat_minor": 5
}
